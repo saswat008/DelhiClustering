{
 "cells": [
  {
   "cell_type": "code",
   "execution_count": 2,
   "metadata": {},
   "outputs": [],
   "source": [
    "import pandas as pd\n",
    "import numpy as np\n",
    "import csv"
   ]
  },
  {
   "cell_type": "code",
   "execution_count": 3,
   "metadata": {},
   "outputs": [],
   "source": [
    "df = pd.read_csv('openaqi25-31.csv')"
   ]
  },
  {
   "cell_type": "code",
   "execution_count": 4,
   "metadata": {},
   "outputs": [],
   "source": [
    "stations = df.location.unique()\n",
    "df['local'] = pd.to_datetime(df['local'])\n",
    "df['date'] = df['local'].dt.date\n",
    "df['hour'] = df['local'].dt.hour\n",
    "# df2 = df.groupby(['location','date','hour'])['value'].mean().to_frame()\n",
    "#         print(len(one_day['local'].dt.hour.unique()))\n"
   ]
  },
  {
   "cell_type": "code",
   "execution_count": 5,
   "metadata": {
    "scrolled": true
   },
   "outputs": [
    {
     "name": "stdout",
     "output_type": "stream",
     "text": [
      "2020-10-31 20 US Diplomatic Post: New Delhi\n",
      "2020-10-30 12 US Diplomatic Post: New Delhi\n",
      "2020-10-29 21 US Diplomatic Post: New Delhi\n",
      "2020-10-28 21 US Diplomatic Post: New Delhi\n",
      "2020-10-27 18 US Diplomatic Post: New Delhi\n",
      "2020-10-26 16 US Diplomatic Post: New Delhi\n",
      "2020-10-25 21 US Diplomatic Post: New Delhi\n"
     ]
    }
   ],
   "source": [
    "\n",
    "df4 = pd.DataFrame()\n",
    "\n",
    "for day in df['date'].unique():\n",
    "    one_day = df[(df['date']==day) & (df['location']==stations[11])]\n",
    "    df4 = df4.append(one_day.groupby(['hour'])['value'].mean().to_frame().reset_index())\n",
    "    print(day,len(one_day['local'].dt.hour.unique()),stations[32])\n"
   ]
  },
  {
   "cell_type": "code",
   "execution_count": 16,
   "metadata": {},
   "outputs": [],
   "source": [
    "df5 = pd.DataFrame()\n",
    "c=0\n",
    "prev\n",
    "for i,r in df4.iterrows():\n",
    "    while c!=r['hour']:\n",
    "        df5 = df5.append(pd.DataFrame({\"hour\":[c],\"value\":[prev+20]}))\n",
    "        prev = prev+20\n",
    "        c = (c+1)%24            \n",
    "    df5 = df5.append(r)\n",
    "    prev = r['hour']\n",
    "    c = (c+1)%24\n"
   ]
  },
  {
   "cell_type": "code",
   "execution_count": 17,
   "metadata": {},
   "outputs": [
    {
     "data": {
      "text/html": [
       "<div>\n",
       "<style scoped>\n",
       "    .dataframe tbody tr th:only-of-type {\n",
       "        vertical-align: middle;\n",
       "    }\n",
       "\n",
       "    .dataframe tbody tr th {\n",
       "        vertical-align: top;\n",
       "    }\n",
       "\n",
       "    .dataframe thead th {\n",
       "        text-align: right;\n",
       "    }\n",
       "</style>\n",
       "<table border=\"1\" class=\"dataframe\">\n",
       "  <thead>\n",
       "    <tr style=\"text-align: right;\">\n",
       "      <th></th>\n",
       "      <th>hour</th>\n",
       "      <th>value</th>\n",
       "    </tr>\n",
       "  </thead>\n",
       "  <tbody>\n",
       "    <tr>\n",
       "      <th>0</th>\n",
       "      <td>0.0</td>\n",
       "      <td>567.0</td>\n",
       "    </tr>\n",
       "    <tr>\n",
       "      <th>1</th>\n",
       "      <td>1.0</td>\n",
       "      <td>583.0</td>\n",
       "    </tr>\n",
       "    <tr>\n",
       "      <th>2</th>\n",
       "      <td>2.0</td>\n",
       "      <td>530.0</td>\n",
       "    </tr>\n",
       "    <tr>\n",
       "      <th>3</th>\n",
       "      <td>3.0</td>\n",
       "      <td>495.0</td>\n",
       "    </tr>\n",
       "    <tr>\n",
       "      <th>4</th>\n",
       "      <td>4.0</td>\n",
       "      <td>486.0</td>\n",
       "    </tr>\n",
       "    <tr>\n",
       "      <th>...</th>\n",
       "      <td>...</td>\n",
       "      <td>...</td>\n",
       "    </tr>\n",
       "    <tr>\n",
       "      <th>16</th>\n",
       "      <td>19.0</td>\n",
       "      <td>129.0</td>\n",
       "    </tr>\n",
       "    <tr>\n",
       "      <th>17</th>\n",
       "      <td>20.0</td>\n",
       "      <td>149.0</td>\n",
       "    </tr>\n",
       "    <tr>\n",
       "      <th>18</th>\n",
       "      <td>21.0</td>\n",
       "      <td>175.5</td>\n",
       "    </tr>\n",
       "    <tr>\n",
       "      <th>19</th>\n",
       "      <td>22.0</td>\n",
       "      <td>182.5</td>\n",
       "    </tr>\n",
       "    <tr>\n",
       "      <th>20</th>\n",
       "      <td>23.0</td>\n",
       "      <td>165.0</td>\n",
       "    </tr>\n",
       "  </tbody>\n",
       "</table>\n",
       "<p>168 rows × 2 columns</p>\n",
       "</div>"
      ],
      "text/plain": [
       "    hour  value\n",
       "0    0.0  567.0\n",
       "1    1.0  583.0\n",
       "2    2.0  530.0\n",
       "3    3.0  495.0\n",
       "4    4.0  486.0\n",
       "..   ...    ...\n",
       "16  19.0  129.0\n",
       "17  20.0  149.0\n",
       "18  21.0  175.5\n",
       "19  22.0  182.5\n",
       "20  23.0  165.0\n",
       "\n",
       "[168 rows x 2 columns]"
      ]
     },
     "execution_count": 17,
     "metadata": {},
     "output_type": "execute_result"
    }
   ],
   "source": [
    "df5"
   ]
  },
  {
   "cell_type": "code",
   "execution_count": 19,
   "metadata": {},
   "outputs": [],
   "source": [
    "df5.to_csv('station_11.csv')"
   ]
  },
  {
   "cell_type": "code",
   "execution_count": null,
   "metadata": {},
   "outputs": [],
   "source": []
  }
 ],
 "metadata": {
  "kernelspec": {
   "display_name": "Python 3",
   "language": "python",
   "name": "python3"
  },
  "language_info": {
   "codemirror_mode": {
    "name": "ipython",
    "version": 3
   },
   "file_extension": ".py",
   "mimetype": "text/x-python",
   "name": "python",
   "nbconvert_exporter": "python",
   "pygments_lexer": "ipython3",
   "version": "3.8.3"
  }
 },
 "nbformat": 4,
 "nbformat_minor": 4
}
