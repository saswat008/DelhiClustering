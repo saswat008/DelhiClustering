{
 "cells": [
  {
   "cell_type": "code",
   "execution_count": 2,
   "metadata": {
    "scrolled": true
   },
   "outputs": [
    {
     "name": "stdout",
     "output_type": "stream",
     "text": [
      "Requirement already satisfied: google-cloud in c:\\users\\sagar\\miniconda3\\lib\\site-packages (0.34.0)\n"
     ]
    }
   ],
   "source": [
    "!pip install google-cloud\n"
   ]
  },
  {
   "cell_type": "code",
   "execution_count": 3,
   "metadata": {
    "scrolled": true
   },
   "outputs": [
    {
     "name": "stdout",
     "output_type": "stream",
     "text": [
      "Requirement already satisfied: google-oauth in c:\\users\\sagar\\miniconda3\\lib\\site-packages (1.0.1)\n",
      "Requirement already satisfied: six in c:\\users\\sagar\\miniconda3\\lib\\site-packages (from google-oauth) (1.14.0)\n",
      "Requirement already satisfied: requests in c:\\users\\sagar\\miniconda3\\lib\\site-packages (from google-oauth) (2.23.0)\n",
      "Requirement already satisfied: pyopenssl>=0.11 in c:\\users\\sagar\\miniconda3\\lib\\site-packages (from google-oauth) (19.1.0)\n",
      "Requirement already satisfied: urllib3!=1.25.0,!=1.25.1,<1.26,>=1.21.1 in c:\\users\\sagar\\miniconda3\\lib\\site-packages (from requests->google-oauth) (1.25.8)\n",
      "Requirement already satisfied: chardet<4,>=3.0.2 in c:\\users\\sagar\\miniconda3\\lib\\site-packages (from requests->google-oauth) (3.0.4)\n",
      "Requirement already satisfied: idna<3,>=2.5 in c:\\users\\sagar\\miniconda3\\lib\\site-packages (from requests->google-oauth) (2.9)\n",
      "Requirement already satisfied: certifi>=2017.4.17 in c:\\users\\sagar\\miniconda3\\lib\\site-packages (from requests->google-oauth) (2020.6.20)\n",
      "Requirement already satisfied: cryptography>=2.8 in c:\\users\\sagar\\miniconda3\\lib\\site-packages (from pyopenssl>=0.11->google-oauth) (2.9.2)\n",
      "Requirement already satisfied: cffi!=1.11.3,>=1.8 in c:\\users\\sagar\\miniconda3\\lib\\site-packages (from cryptography>=2.8->pyopenssl>=0.11->google-oauth) (1.14.0)\n",
      "Requirement already satisfied: pycparser in c:\\users\\sagar\\miniconda3\\lib\\site-packages (from cffi!=1.11.3,>=1.8->cryptography>=2.8->pyopenssl>=0.11->google-oauth) (2.20)\n",
      "Collecting google-api-python-client\n",
      "  Downloading google_api_python_client-1.12.5-py2.py3-none-any.whl (61 kB)\n",
      "Requirement already satisfied, skipping upgrade: uritemplate<4dev,>=3.0.0 in c:\\users\\sagar\\miniconda3\\lib\\site-packages (from google-api-python-client) (3.0.1)\n",
      "Requirement already satisfied, skipping upgrade: google-api-core<2dev,>=1.21.0 in c:\\users\\sagar\\miniconda3\\lib\\site-packages (from google-api-python-client) (1.22.4)\n",
      "Requirement already satisfied, skipping upgrade: six<2dev,>=1.13.0 in c:\\users\\sagar\\miniconda3\\lib\\site-packages (from google-api-python-client) (1.14.0)\n",
      "Requirement already satisfied, skipping upgrade: google-auth-httplib2>=0.0.3 in c:\\users\\sagar\\miniconda3\\lib\\site-packages (from google-api-python-client) (0.0.4)\n",
      "Requirement already satisfied, skipping upgrade: google-auth>=1.16.0 in c:\\users\\sagar\\miniconda3\\lib\\site-packages (from google-api-python-client) (1.22.1)\n",
      "Requirement already satisfied, skipping upgrade: httplib2<1dev,>=0.15.0 in c:\\users\\sagar\\miniconda3\\lib\\site-packages (from google-api-python-client) (0.18.1)\n",
      "Requirement already satisfied, skipping upgrade: googleapis-common-protos<2.0dev,>=1.6.0 in c:\\users\\sagar\\miniconda3\\lib\\site-packages (from google-api-core<2dev,>=1.21.0->google-api-python-client) (1.52.0)\n",
      "Requirement already satisfied, skipping upgrade: requests<3.0.0dev,>=2.18.0 in c:\\users\\sagar\\miniconda3\\lib\\site-packages (from google-api-core<2dev,>=1.21.0->google-api-python-client) (2.23.0)\n",
      "Requirement already satisfied, skipping upgrade: setuptools>=34.0.0 in c:\\users\\sagar\\miniconda3\\lib\\site-packages (from google-api-core<2dev,>=1.21.0->google-api-python-client) (46.4.0.post20200518)\n",
      "Requirement already satisfied, skipping upgrade: pytz in c:\\users\\sagar\\miniconda3\\lib\\site-packages (from google-api-core<2dev,>=1.21.0->google-api-python-client) (2020.1)\n",
      "Requirement already satisfied, skipping upgrade: protobuf>=3.12.0 in c:\\users\\sagar\\miniconda3\\lib\\site-packages (from google-api-core<2dev,>=1.21.0->google-api-python-client) (3.13.0)\n",
      "Requirement already satisfied, skipping upgrade: cachetools<5.0,>=2.0.0 in c:\\users\\sagar\\miniconda3\\lib\\site-packages (from google-auth>=1.16.0->google-api-python-client) (4.1.1)\n",
      "Requirement already satisfied, skipping upgrade: rsa<5,>=3.1.4; python_version >= \"3.5\" in c:\\users\\sagar\\miniconda3\\lib\\site-packages (from google-auth>=1.16.0->google-api-python-client) (4.6)\n",
      "Requirement already satisfied, skipping upgrade: pyasn1-modules>=0.2.1 in c:\\users\\sagar\\miniconda3\\lib\\site-packages (from google-auth>=1.16.0->google-api-python-client) (0.2.8)\n",
      "Requirement already satisfied, skipping upgrade: chardet<4,>=3.0.2 in c:\\users\\sagar\\miniconda3\\lib\\site-packages (from requests<3.0.0dev,>=2.18.0->google-api-core<2dev,>=1.21.0->google-api-python-client) (3.0.4)\n",
      "Requirement already satisfied, skipping upgrade: idna<3,>=2.5 in c:\\users\\sagar\\miniconda3\\lib\\site-packages (from requests<3.0.0dev,>=2.18.0->google-api-core<2dev,>=1.21.0->google-api-python-client) (2.9)\n",
      "Requirement already satisfied, skipping upgrade: urllib3!=1.25.0,!=1.25.1,<1.26,>=1.21.1 in c:\\users\\sagar\\miniconda3\\lib\\site-packages (from requests<3.0.0dev,>=2.18.0->google-api-core<2dev,>=1.21.0->google-api-python-client) (1.25.8)\n",
      "Requirement already satisfied, skipping upgrade: certifi>=2017.4.17 in c:\\users\\sagar\\miniconda3\\lib\\site-packages (from requests<3.0.0dev,>=2.18.0->google-api-core<2dev,>=1.21.0->google-api-python-client) (2020.6.20)\n",
      "Requirement already satisfied, skipping upgrade: pyasn1>=0.1.3 in c:\\users\\sagar\\miniconda3\\lib\\site-packages (from rsa<5,>=3.1.4; python_version >= \"3.5\"->google-auth>=1.16.0->google-api-python-client) (0.4.8)\n",
      "Installing collected packages: google-api-python-client\n",
      "  Attempting uninstall: google-api-python-client\n",
      "    Found existing installation: google-api-python-client 1.12.4\n",
      "    Uninstalling google-api-python-client-1.12.4:\n",
      "      Successfully uninstalled google-api-python-client-1.12.4\n",
      "Successfully installed google-api-python-client-1.12.5\n",
      "Requirement already satisfied: google-cloud-bigquery in c:\\users\\sagar\\miniconda3\\lib\\site-packages (2.2.0)\n",
      "Requirement already satisfied: google-api-core[grpc]<2.0.0dev,>=1.22.2 in c:\\users\\sagar\\miniconda3\\lib\\site-packages (from google-cloud-bigquery) (1.22.4)\n",
      "Requirement already satisfied: six<2.0.0dev,>=1.13.0 in c:\\users\\sagar\\miniconda3\\lib\\site-packages (from google-cloud-bigquery) (1.14.0)\n",
      "Requirement already satisfied: google-resumable-media<2.0dev,>=0.6.0 in c:\\users\\sagar\\miniconda3\\lib\\site-packages (from google-cloud-bigquery) (1.1.0)\n",
      "Requirement already satisfied: protobuf>=3.12.0 in c:\\users\\sagar\\miniconda3\\lib\\site-packages (from google-cloud-bigquery) (3.13.0)\n",
      "Requirement already satisfied: proto-plus>=1.10.0 in c:\\users\\sagar\\miniconda3\\lib\\site-packages (from google-cloud-bigquery) (1.11.0)\n",
      "Requirement already satisfied: google-cloud-core<2.0dev,>=1.4.1 in c:\\users\\sagar\\miniconda3\\lib\\site-packages (from google-cloud-bigquery) (1.4.3)\n",
      "Requirement already satisfied: googleapis-common-protos<2.0dev,>=1.6.0 in c:\\users\\sagar\\miniconda3\\lib\\site-packages (from google-api-core[grpc]<2.0.0dev,>=1.22.2->google-cloud-bigquery) (1.52.0)\n",
      "Requirement already satisfied: pytz in c:\\users\\sagar\\miniconda3\\lib\\site-packages (from google-api-core[grpc]<2.0.0dev,>=1.22.2->google-cloud-bigquery) (2020.1)\n",
      "Requirement already satisfied: requests<3.0.0dev,>=2.18.0 in c:\\users\\sagar\\miniconda3\\lib\\site-packages (from google-api-core[grpc]<2.0.0dev,>=1.22.2->google-cloud-bigquery) (2.23.0)\n",
      "Requirement already satisfied: google-auth<2.0dev,>=1.21.1 in c:\\users\\sagar\\miniconda3\\lib\\site-packages (from google-api-core[grpc]<2.0.0dev,>=1.22.2->google-cloud-bigquery) (1.22.1)\n",
      "Requirement already satisfied: setuptools>=34.0.0 in c:\\users\\sagar\\miniconda3\\lib\\site-packages (from google-api-core[grpc]<2.0.0dev,>=1.22.2->google-cloud-bigquery) (46.4.0.post20200518)\n",
      "Requirement already satisfied: grpcio<2.0dev,>=1.29.0; extra == \"grpc\" in c:\\users\\sagar\\miniconda3\\lib\\site-packages (from google-api-core[grpc]<2.0.0dev,>=1.22.2->google-cloud-bigquery) (1.32.0)\n",
      "Requirement already satisfied: google-crc32c<2.0dev,>=1.0; python_version >= \"3.5\" in c:\\users\\sagar\\miniconda3\\lib\\site-packages (from google-resumable-media<2.0dev,>=0.6.0->google-cloud-bigquery) (1.0.0)\n",
      "Requirement already satisfied: chardet<4,>=3.0.2 in c:\\users\\sagar\\miniconda3\\lib\\site-packages (from requests<3.0.0dev,>=2.18.0->google-api-core[grpc]<2.0.0dev,>=1.22.2->google-cloud-bigquery) (3.0.4)\n",
      "Requirement already satisfied: idna<3,>=2.5 in c:\\users\\sagar\\miniconda3\\lib\\site-packages (from requests<3.0.0dev,>=2.18.0->google-api-core[grpc]<2.0.0dev,>=1.22.2->google-cloud-bigquery) (2.9)\n",
      "Requirement already satisfied: certifi>=2017.4.17 in c:\\users\\sagar\\miniconda3\\lib\\site-packages (from requests<3.0.0dev,>=2.18.0->google-api-core[grpc]<2.0.0dev,>=1.22.2->google-cloud-bigquery) (2020.6.20)\n",
      "Requirement already satisfied: urllib3!=1.25.0,!=1.25.1,<1.26,>=1.21.1 in c:\\users\\sagar\\miniconda3\\lib\\site-packages (from requests<3.0.0dev,>=2.18.0->google-api-core[grpc]<2.0.0dev,>=1.22.2->google-cloud-bigquery) (1.25.8)\n",
      "Requirement already satisfied: cachetools<5.0,>=2.0.0 in c:\\users\\sagar\\miniconda3\\lib\\site-packages (from google-auth<2.0dev,>=1.21.1->google-api-core[grpc]<2.0.0dev,>=1.22.2->google-cloud-bigquery) (4.1.1)\n",
      "Requirement already satisfied: pyasn1-modules>=0.2.1 in c:\\users\\sagar\\miniconda3\\lib\\site-packages (from google-auth<2.0dev,>=1.21.1->google-api-core[grpc]<2.0.0dev,>=1.22.2->google-cloud-bigquery) (0.2.8)\n",
      "Requirement already satisfied: rsa<5,>=3.1.4; python_version >= \"3.5\" in c:\\users\\sagar\\miniconda3\\lib\\site-packages (from google-auth<2.0dev,>=1.21.1->google-api-core[grpc]<2.0.0dev,>=1.22.2->google-cloud-bigquery) (4.6)\n",
      "Requirement already satisfied: pyasn1<0.5.0,>=0.4.6 in c:\\users\\sagar\\miniconda3\\lib\\site-packages (from pyasn1-modules>=0.2.1->google-auth<2.0dev,>=1.21.1->google-api-core[grpc]<2.0.0dev,>=1.22.2->google-cloud-bigquery) (0.4.8)\n"
     ]
    },
    {
     "name": "stdout",
     "output_type": "stream",
     "text": [
      "Requirement already satisfied: folium in c:\\users\\sagar\\miniconda3\\lib\\site-packages (0.11.0)\n",
      "Requirement already satisfied: numpy in c:\\users\\sagar\\miniconda3\\lib\\site-packages (from folium) (1.19.1)\n",
      "Requirement already satisfied: requests in c:\\users\\sagar\\miniconda3\\lib\\site-packages (from folium) (2.23.0)\n",
      "Requirement already satisfied: branca>=0.3.0 in c:\\users\\sagar\\miniconda3\\lib\\site-packages (from folium) (0.4.1)\n",
      "Requirement already satisfied: jinja2>=2.9 in c:\\users\\sagar\\miniconda3\\lib\\site-packages (from folium) (2.11.2)\n",
      "Requirement already satisfied: chardet<4,>=3.0.2 in c:\\users\\sagar\\miniconda3\\lib\\site-packages (from requests->folium) (3.0.4)\n",
      "Requirement already satisfied: idna<3,>=2.5 in c:\\users\\sagar\\miniconda3\\lib\\site-packages (from requests->folium) (2.9)\n",
      "Requirement already satisfied: certifi>=2017.4.17 in c:\\users\\sagar\\miniconda3\\lib\\site-packages (from requests->folium) (2020.6.20)\n",
      "Requirement already satisfied: urllib3!=1.25.0,!=1.25.1,<1.26,>=1.21.1 in c:\\users\\sagar\\miniconda3\\lib\\site-packages (from requests->folium) (1.25.8)\n",
      "Requirement already satisfied: MarkupSafe>=0.23 in c:\\users\\sagar\\miniconda3\\lib\\site-packages (from jinja2>=2.9->folium) (1.1.1)\n"
     ]
    }
   ],
   "source": [
    "!pip install google-oauth\n",
    "!pip install --upgrade google-api-python-client\n",
    "!pip install google-cloud-bigquery\n",
    "!pip install folium"
   ]
  },
  {
   "cell_type": "code",
   "execution_count": 4,
   "metadata": {},
   "outputs": [],
   "source": [
    "from google.cloud import bigquery\n",
    "from google.oauth2 import service_account\n",
    "import pandas as pd\n",
    "import pyarrow"
   ]
  },
  {
   "cell_type": "code",
   "execution_count": 5,
   "metadata": {},
   "outputs": [],
   "source": [
    "credentials = service_account.Credentials.from_service_account_file(\n",
    "'eziomotiv_service_account.json')\n",
    "\n",
    "project_id = 'eziomotiv-255716'\n",
    "client = bigquery.Client(credentials= credentials,project=project_id)"
   ]
  },
  {
   "cell_type": "code",
   "execution_count": 6,
   "metadata": {},
   "outputs": [
    {
     "name": "stderr",
     "output_type": "stream",
     "text": [
      "C:\\Users\\Sagar\\miniconda3\\lib\\site-packages\\google\\cloud\\bigquery\\client.py:439: UserWarning: Cannot create BigQuery Storage client, the dependency google-cloud-bigquery-storage is not installed.\n",
      "  warnings.warn(\n"
     ]
    },
    {
     "data": {
      "text/html": [
       "<div>\n",
       "<style scoped>\n",
       "    .dataframe tbody tr th:only-of-type {\n",
       "        vertical-align: middle;\n",
       "    }\n",
       "\n",
       "    .dataframe tbody tr th {\n",
       "        vertical-align: top;\n",
       "    }\n",
       "\n",
       "    .dataframe thead th {\n",
       "        text-align: right;\n",
       "    }\n",
       "</style>\n",
       "<table border=\"1\" class=\"dataframe\">\n",
       "  <thead>\n",
       "    <tr style=\"text-align: right;\">\n",
       "      <th></th>\n",
       "      <th>dateTime</th>\n",
       "      <th>deviceId</th>\n",
       "      <th>uid</th>\n",
       "      <th>ax</th>\n",
       "      <th>ay</th>\n",
       "      <th>az</th>\n",
       "      <th>gx</th>\n",
       "      <th>gy</th>\n",
       "      <th>gz</th>\n",
       "    </tr>\n",
       "  </thead>\n",
       "  <tbody>\n",
       "    <tr>\n",
       "      <th>0</th>\n",
       "      <td>2020-10-15 13:27:35</td>\n",
       "      <td>000000008f525c6e</td>\n",
       "      <td>16a8b908-048e-4ab9-b20a-ecb1ebb4b2c0</td>\n",
       "      <td>-1954</td>\n",
       "      <td>994</td>\n",
       "      <td>-18116</td>\n",
       "      <td>-80</td>\n",
       "      <td>34</td>\n",
       "      <td>-22</td>\n",
       "    </tr>\n",
       "    <tr>\n",
       "      <th>1</th>\n",
       "      <td>2020-10-15 13:28:31</td>\n",
       "      <td>000000008f525c6e</td>\n",
       "      <td>fa1d5220-e514-42f6-a8ca-7d84092e6737</td>\n",
       "      <td>-266</td>\n",
       "      <td>328</td>\n",
       "      <td>-17718</td>\n",
       "      <td>-130</td>\n",
       "      <td>24</td>\n",
       "      <td>-28</td>\n",
       "    </tr>\n",
       "    <tr>\n",
       "      <th>2</th>\n",
       "      <td>2020-10-15 13:29:33</td>\n",
       "      <td>000000008f525c6e</td>\n",
       "      <td>fb2485e5-4219-46dc-a521-c396fcd90a8e</td>\n",
       "      <td>-1282</td>\n",
       "      <td>98</td>\n",
       "      <td>-13912</td>\n",
       "      <td>-83</td>\n",
       "      <td>40</td>\n",
       "      <td>-9</td>\n",
       "    </tr>\n",
       "    <tr>\n",
       "      <th>3</th>\n",
       "      <td>2020-10-15 13:27:33</td>\n",
       "      <td>000000008f525c6e</td>\n",
       "      <td>41675058-ae3d-4e90-bbc4-c2420c84638c</td>\n",
       "      <td>1780</td>\n",
       "      <td>868</td>\n",
       "      <td>-17792</td>\n",
       "      <td>-140</td>\n",
       "      <td>23</td>\n",
       "      <td>1</td>\n",
       "    </tr>\n",
       "    <tr>\n",
       "      <th>4</th>\n",
       "      <td>2020-10-15 13:25:32</td>\n",
       "      <td>000000008f525c6e</td>\n",
       "      <td>e8fc3659-42c9-47b1-88b7-38389eb7fbbf</td>\n",
       "      <td>-214</td>\n",
       "      <td>778</td>\n",
       "      <td>-19664</td>\n",
       "      <td>-78</td>\n",
       "      <td>55</td>\n",
       "      <td>-13</td>\n",
       "    </tr>\n",
       "  </tbody>\n",
       "</table>\n",
       "</div>"
      ],
      "text/plain": [
       "             dateTime          deviceId                                   uid  \\\n",
       "0 2020-10-15 13:27:35  000000008f525c6e  16a8b908-048e-4ab9-b20a-ecb1ebb4b2c0   \n",
       "1 2020-10-15 13:28:31  000000008f525c6e  fa1d5220-e514-42f6-a8ca-7d84092e6737   \n",
       "2 2020-10-15 13:29:33  000000008f525c6e  fb2485e5-4219-46dc-a521-c396fcd90a8e   \n",
       "3 2020-10-15 13:27:33  000000008f525c6e  41675058-ae3d-4e90-bbc4-c2420c84638c   \n",
       "4 2020-10-15 13:25:32  000000008f525c6e  e8fc3659-42c9-47b1-88b7-38389eb7fbbf   \n",
       "\n",
       "      ax   ay      az    gx  gy   gz  \n",
       "0  -1954  994  -18116   -80  34  -22  \n",
       "1   -266  328  -17718  -130  24  -28  \n",
       "2  -1282   98  -13912   -83  40   -9  \n",
       "3   1780  868  -17792  -140  23    1  \n",
       "4   -214  778  -19664   -78  55  -13  "
      ]
     },
     "execution_count": 6,
     "metadata": {},
     "output_type": "execute_result"
    }
   ],
   "source": [
    "df_mpu = client.query(\"\"\"SELECT * FROM `eziomotiv-255716.EzioMotiv.mpu` where deviceid='000000008f525c6e' and dateTime between '2020-10-13' and '2020-10-21' \"\"\").to_dataframe()\n",
    "df_mpu.head()"
   ]
  },
  {
   "cell_type": "code",
   "execution_count": 7,
   "metadata": {},
   "outputs": [],
   "source": [
    "df_mpu.to_csv('week1-mpu-450.csv')"
   ]
  },
  {
   "cell_type": "code",
   "execution_count": null,
   "metadata": {},
   "outputs": [],
   "source": []
  }
 ],
 "metadata": {
  "kernelspec": {
   "display_name": "Python 3",
   "language": "python",
   "name": "python3"
  },
  "language_info": {
   "codemirror_mode": {
    "name": "ipython",
    "version": 3
   },
   "file_extension": ".py",
   "mimetype": "text/x-python",
   "name": "python",
   "nbconvert_exporter": "python",
   "pygments_lexer": "ipython3",
   "version": "3.8.3"
  }
 },
 "nbformat": 4,
 "nbformat_minor": 4
}
