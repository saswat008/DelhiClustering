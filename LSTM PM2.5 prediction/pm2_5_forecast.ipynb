{
  "nbformat": 4,
  "nbformat_minor": 0,
  "metadata": {
    "colab": {
      "name": "pm2.5_forecast.ipynb",
      "provenance": [],
      "collapsed_sections": []
    },
    "kernelspec": {
      "name": "python3",
      "display_name": "Python 3"
    }
  },
  "cells": [
    {
      "cell_type": "code",
      "metadata": {
        "id": "WWZqmTrflOXI"
      },
      "source": [
        "import numpy as np\n",
        "import pandas as pd\n",
        "import tensorflow as tf\n",
        "from tensorflow import keras\n",
        "from keras.models import Sequential\n",
        "from keras.layers import LSTM\n",
        "from keras.layers import Dense\n",
        "from numpy import array\n",
        "from tensorflow.keras import layers\n"
      ],
      "execution_count": null,
      "outputs": []
    },
    {
      "cell_type": "code",
      "metadata": {
        "id": "bEFGc-PWpkfM"
      },
      "source": [
        "# split a univariate sequence into samples\n",
        "def split_sequence(sequence, n_steps_in, n_steps_out):\n",
        "\tX, y = list(), list()\n",
        "\tfor i in range(len(sequence)):\n",
        "\t\t# find the end of this pattern\n",
        "\t\tend_ix = i + n_steps_in\n",
        "\t\tout_end_ix = end_ix + n_steps_out\n",
        "\t\t# check if we are beyond the sequence\n",
        "\t\tif out_end_ix > len(sequence):\n",
        "\t\t\tbreak\n",
        "\t\t# gather input and output parts of the pattern\n",
        "\t\tseq_x, seq_y = sequence[i:end_ix], sequence[end_ix:out_end_ix]\n",
        "\t\tX.append(seq_x)\n",
        "\t\ty.append(seq_y)\n",
        "\treturn array(X), array(y)"
      ],
      "execution_count": null,
      "outputs": []
    },
    {
      "cell_type": "code",
      "metadata": {
        "id": "jM4ntqh7v0rE"
      },
      "source": [
        "d1 = np.genfromtxt('station_11.csv')\n",
        "d2 = np.genfromtxt('station_32.csv')\n",
        "d1=d1.reshape((d1.shape[0],1))\n",
        "d2=d2.reshape((d2.shape[0],1))"
      ],
      "execution_count": null,
      "outputs": []
    },
    {
      "cell_type": "code",
      "metadata": {
        "id": "3Faw0e096y3H"
      },
      "source": [
        "# choose a number of time steps\n",
        "n_steps_in, n_steps_out = 24, 2\n",
        "# split into samples\n",
        "X, y = split_sequence(d2, n_steps_in, n_steps_out)\n",
        "# summarize the data\n",
        "n_features = 1\n",
        "X = X.reshape((X.shape[0], X.shape[1], n_features))"
      ],
      "execution_count": null,
      "outputs": []
    },
    {
      "cell_type": "code",
      "metadata": {
        "id": "uRGBMxht63-x"
      },
      "source": [
        "model = Sequential()\n",
        "model.add(LSTM(100, activation='relu',  input_shape=(n_steps_in, n_features)))\n",
        "model.add(Dense(n_steps_out))\n",
        "model.compile(optimizer='adam', loss='mse')"
      ],
      "execution_count": null,
      "outputs": []
    },
    {
      "cell_type": "code",
      "metadata": {
        "id": "6ImR8pSMGdeK"
      },
      "source": [
        ""
      ],
      "execution_count": null,
      "outputs": []
    },
    {
      "cell_type": "code",
      "metadata": {
        "colab": {
          "base_uri": "https://localhost:8080/"
        },
        "id": "pvwFny7DHCsf",
        "outputId": "f337e96c-df34-4811-9709-51fb207b9407"
      },
      "source": [
        "model.fit(X_train,y_train,epochs=50,verbose=0)"
      ],
      "execution_count": null,
      "outputs": [
        {
          "output_type": "execute_result",
          "data": {
            "text/plain": [
              "<tensorflow.python.keras.callbacks.History at 0x7f6bacb7c4a8>"
            ]
          },
          "metadata": {
            "tags": []
          },
          "execution_count": 40
        }
      ]
    },
    {
      "cell_type": "code",
      "metadata": {
        "id": "y3N1oWlmHKst"
      },
      "source": [
        "pred = model.predict(X_test)"
      ],
      "execution_count": null,
      "outputs": []
    },
    {
      "cell_type": "code",
      "metadata": {
        "colab": {
          "base_uri": "https://localhost:8080/"
        },
        "id": "LG9jAamzHf42",
        "outputId": "d195f087-73f4-48b1-ac78-a52798b5c2b4"
      },
      "source": [
        "for i in range(len(pred)):\n",
        "  print(pred[i],y_test[i])"
      ],
      "execution_count": null,
      "outputs": [
        {
          "output_type": "stream",
          "text": [
            "[-33.11078 193.24919] [[102.]\n",
            " [146.]]\n",
            "[-41.63971 262.5089 ] [[69.]\n",
            " [94.]]\n",
            "[146.7837  224.69193] [[243.]\n",
            " [179.]]\n",
            "[ -9.152742 154.13326 ] [[174.]\n",
            " [185.]]\n",
            "[115.05838 263.55334] [[146.]\n",
            " [146.]]\n",
            "[129.7938  238.73192] [[134.]\n",
            " [ 85.]]\n",
            "[156.22353 222.65361] [[213.]\n",
            " [176.]]\n",
            "[130.334   143.88301] [[164.]\n",
            " [162.]]\n",
            "[ 80.65343 177.26335] [[162.]\n",
            " [166.]]\n",
            "[-41.645386 253.37737 ] [[65.]\n",
            " [69.]]\n",
            "[-60.862473 220.69043 ] [[151.]\n",
            " [168.]]\n",
            "[164.37535 219.73854] [[234.]\n",
            " [223.]]\n",
            "[-71.87398 211.75595] [[105.]\n",
            " [112.]]\n"
          ],
          "name": "stdout"
        }
      ]
    },
    {
      "cell_type": "code",
      "metadata": {
        "id": "vQD6aHxPKxt3",
        "colab": {
          "base_uri": "https://localhost:8080/"
        },
        "outputId": "a812e630-8c5e-42a8-d613-2caab0fa717d"
      },
      "source": [
        "# multivariate multi-step data preparation\n",
        "from numpy import array\n",
        "from numpy import hstack\n",
        "from keras.models import Sequential\n",
        "from keras.layers import LSTM\n",
        "from keras.layers import Dense\n",
        "from keras.layers import RepeatVector\n",
        "from keras.layers import TimeDistributed\n",
        "from sklearn.model_selection import train_test_split\n",
        "\n",
        "# split a multivariate sequence into samples\n",
        "def split_sequences(sequences, n_steps_in, n_steps_out):\n",
        "\tX, y = list(), list()\n",
        "\tfor i in range(len(sequences)):\n",
        "\t\t# find the end of this pattern\n",
        "\t\tend_ix = i + n_steps_in\n",
        "\t\tout_end_ix = end_ix + n_steps_out\n",
        "\t\t# check if we are beyond the dataset\n",
        "\t\tif out_end_ix > len(sequences):\n",
        "\t\t\tbreak\n",
        "\t\t# gather input and output parts of the pattern\n",
        "\t\tseq_x, seq_y = sequences[i:end_ix, :], sequences[end_ix:out_end_ix, :]\n",
        "\t\tX.append(seq_x)\n",
        "\t\ty.append(seq_y)\n",
        "\treturn array(X), array(y)\n",
        "\n",
        "# horizontally stack columns\n",
        "dataset = hstack((d1, d2))\n",
        "# choose a number of time steps\n",
        "n_steps_in, n_steps_out = 24, 2\n",
        "# covert into input/output\n",
        "X, y = split_sequences(dataset, n_steps_in, n_steps_out)\n",
        "X_train, X_test, y_train, y_test = train_test_split(X, y, test_size=0.06, random_state=42)\n",
        "\n",
        "n_features = X.shape[2]\n",
        "# define model\n",
        "model = Sequential()\n",
        "model.add(LSTM(200, activation='relu', input_shape=(n_steps_in, n_features)))\n",
        "model.add(RepeatVector(n_steps_out))\n",
        "model.add(LSTM(200, activation='relu', return_sequences=True))\n",
        "model.add(TimeDistributed(Dense(n_features)))\n",
        "model.compile(optimizer='adam', loss='mse')\n",
        "# fit model\n",
        "model.fit(X_train, y_train, epochs=300, verbose=0)\n"
      ],
      "execution_count": null,
      "outputs": [
        {
          "output_type": "execute_result",
          "data": {
            "text/plain": [
              "<tensorflow.python.keras.callbacks.History at 0x7fdb2f565ef0>"
            ]
          },
          "metadata": {
            "tags": []
          },
          "execution_count": 9
        }
      ]
    },
    {
      "cell_type": "code",
      "metadata": {
        "colab": {
          "base_uri": "https://localhost:8080/"
        },
        "id": "UbLQdQHRTOlh",
        "outputId": "fcbe6104-dfc9-4934-bb5b-b0b8e721de17"
      },
      "source": [
        "ypred = model.predict(X_test)\n",
        "ypred = ypred.reshape(-1,2)\n",
        "y_test = y_test.reshape(-1,2)\n",
        "from sklearn.metrics import mean_squared_error\n",
        "print(mean_squared_error(y_test,ypred,squared=True))"
      ],
      "execution_count": null,
      "outputs": [
        {
          "output_type": "stream",
          "text": [
            "25.732865451419954\n"
          ],
          "name": "stdout"
        }
      ]
    },
    {
      "cell_type": "code",
      "metadata": {
        "id": "K3epL206XAsV"
      },
      "source": [
        ""
      ],
      "execution_count": null,
      "outputs": []
    }
  ]
}