{
 "cells": [
  {
   "cell_type": "code",
   "execution_count": 15,
   "metadata": {},
   "outputs": [],
   "source": [
    "import requests\n",
    "import shutil\n",
    "\n",
    "height = 0.00445\n",
    "width = 0.00510260779\n",
    "\n",
    "def getUpperLowerBounds(y,x):# sat_lat, sat_long\n",
    "    xmin , xmax = x - width , x+width\n",
    "    ymin, ymax = y-height, y + height\n",
    "    return xmin,ymin,xmax,ymax\n",
    "\n",
    "\n",
    "# lat , long  -- > y,x\n",
    "def getImage(xmin,ymin,xmax,ymax,station_id,position):\n",
    "    res_x=500\n",
    "    res_y=500\n",
    "    image_url  = \"http://server.arcgisonline.com/arcgis/rest/services/World_Imagery/MapServer/export?bbox=\"+str(xmin)+\"%2C\"+str(ymin)+\"%2C\"+str(xmax)+\"%2C\"+str(ymax)+\"&bboxSR=4326&layers=&layerDefs=&size=\"+str(res_x)+\"%2C\"+str(res_y)+\"&imageSR=&format=png&transparent=false&dpi=&time=&layerTimeOptions=&dynamicLayers=&gdbVersion=&mapScale=&rotation=&datumTransformations=&layerParameterValues=&mapRangeValues=&layerRangeValues=&f=image\"\n",
    "    resp = requests.get(image_url, stream=True)\n",
    "    \n",
    "    if(resp.status_code==200):\n",
    "        if(res_x == 500):\n",
    "            local_file = open('SatImages/img_'+str(station_id)+'_pos_'+position+'.png', 'wb')\n",
    "        else:\n",
    "            local_file = open('SatImages/img_'+str(station_id)+'_pos_'+position+'_450.png', 'wb')\n",
    "\n",
    "        resp.raw.decode_content = True\n",
    "        shutil.copyfileobj(resp.raw, local_file)\n",
    "#         text_file=open('img_locations'+'.txt','a')\n",
    "#         text_file.write('img_'+str(count)+','+str(xmin)+\",\"+str(ymin)+\",\"+str(xmax)+\",\"+str(ymax)+\"\\n\")\n",
    "        del resp\n",
    "        repeat=0\n",
    "#         xmin=xmax\n",
    "#         xmax=xmax+width\n",
    "        print('img_'+str(station_id)+'_pos_'+position+'.png'+\" downloaded\",res_x,res_y)\n",
    "#         count+=1\n",
    "        res_x=500\n",
    "        res_y=500\n",
    "#         j+=1\n",
    "    else :\n",
    "        print(\"unable to download\",station_id)\n",
    "\n",
    "\n",
    "def get4Images(y,x,station_id): # sat_lat, sat_long\n",
    "    xmin , xmax = x - width , x\n",
    "    ymin, ymax = y, y + height\n",
    "    getImage(xmin,ymin,xmax,ymax,station_id,\"1\")\n",
    "    xmin , xmax = x, x+width\n",
    "    ymin, ymax = y, y + height\n",
    "    getImage(xmin,ymin,xmax,ymax,station_id,\"2\")\n",
    "    xmin , xmax = x-width,x\n",
    "    ymin, ymax = y-height, y\n",
    "    getImage(xmin,ymin,xmax,ymax,station_id,\"3\")\n",
    "    xmin , xmax =  x , x + width\n",
    "    ymin, ymax = y-height, y \n",
    "    getImage(xmin,ymin,xmax,ymax,station_id,\"4\")\n",
    "    \n",
    "    \n",
    "\n",
    "    \n"
   ]
  },
  {
   "cell_type": "code",
   "execution_count": 2,
   "metadata": {},
   "outputs": [],
   "source": [
    "import pandas as pd"
   ]
  },
  {
   "cell_type": "code",
   "execution_count": 3,
   "metadata": {},
   "outputs": [],
   "source": [
    "df = pd.read_csv('locations_with_cluster_assignments_3Clusters.csv')"
   ]
  },
  {
   "cell_type": "code",
   "execution_count": null,
   "metadata": {},
   "outputs": [],
   "source": []
  },
  {
   "cell_type": "code",
   "execution_count": 4,
   "metadata": {},
   "outputs": [
    {
     "name": "stdout",
     "output_type": "stream",
     "text": [
      "img_0_pos_1.png downloaded 500 500\n",
      "img_0_pos_2.png downloaded 500 500\n",
      "img_0_pos_3.png downloaded 500 500\n",
      "img_0_pos_4.png downloaded 500 500\n"
     ]
    }
   ],
   "source": [
    "station_id = df.iloc[0]['station_id']\n",
    "x = df.iloc[0]['longitude']\n",
    "y =df.iloc[0]['latitude']\n",
    "\n",
    "get4Images(y,x,station_id)"
   ]
  },
  {
   "cell_type": "code",
   "execution_count": 37,
   "metadata": {},
   "outputs": [
    {
     "name": "stdout",
     "output_type": "stream",
     "text": [
      "28.710508 77.24948499999999\n"
     ]
    }
   ],
   "source": [
    "print(y,x)"
   ]
  },
  {
   "cell_type": "code",
   "execution_count": 16,
   "metadata": {},
   "outputs": [
    {
     "name": "stdout",
     "output_type": "stream",
     "text": [
      "img_28_pos_1.png downloaded 450 450\n",
      "img_28_pos_2.png downloaded 450 450\n",
      "img_28_pos_3.png downloaded 450 450\n",
      "img_28_pos_4.png downloaded 450 450\n"
     ]
    }
   ],
   "source": [
    "for i in range(len(df)):\n",
    "    station_id = df.iloc[i]['station_id']\n",
    "    x = df.iloc[i]['longitude']\n",
    "    y =df.iloc[i]['latitude']\n",
    "\n",
    "    get4Images(y,x,station_id)"
   ]
  },
  {
   "cell_type": "code",
   "execution_count": null,
   "metadata": {},
   "outputs": [],
   "source": []
  },
  {
   "cell_type": "code",
   "execution_count": null,
   "metadata": {},
   "outputs": [],
   "source": []
  }
 ],
 "metadata": {
  "kernelspec": {
   "display_name": "Python 3",
   "language": "python",
   "name": "python3"
  },
  "language_info": {
   "codemirror_mode": {
    "name": "ipython",
    "version": 3
   },
   "file_extension": ".py",
   "mimetype": "text/x-python",
   "name": "python",
   "nbconvert_exporter": "python",
   "pygments_lexer": "ipython3",
   "version": "3.7.6"
  }
 },
 "nbformat": 4,
 "nbformat_minor": 4
}
