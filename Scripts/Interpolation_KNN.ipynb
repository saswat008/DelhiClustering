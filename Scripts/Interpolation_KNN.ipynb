{
 "cells": [
  {
   "cell_type": "code",
   "execution_count": 74,
   "metadata": {},
   "outputs": [
    {
     "data": {
      "text/html": [
       "<div>\n",
       "<style scoped>\n",
       "    .dataframe tbody tr th:only-of-type {\n",
       "        vertical-align: middle;\n",
       "    }\n",
       "\n",
       "    .dataframe tbody tr th {\n",
       "        vertical-align: top;\n",
       "    }\n",
       "\n",
       "    .dataframe thead th {\n",
       "        text-align: right;\n",
       "    }\n",
       "</style>\n",
       "<table border=\"1\" class=\"dataframe\">\n",
       "  <thead>\n",
       "    <tr style=\"text-align: right;\">\n",
       "      <th></th>\n",
       "      <th>latitude</th>\n",
       "      <th>longitude</th>\n",
       "      <th>pm</th>\n",
       "    </tr>\n",
       "  </thead>\n",
       "  <tbody>\n",
       "    <tr>\n",
       "      <th>0</th>\n",
       "      <td>28.815329</td>\n",
       "      <td>77.153010</td>\n",
       "      <td>307.00</td>\n",
       "    </tr>\n",
       "    <tr>\n",
       "      <th>1</th>\n",
       "      <td>28.470691</td>\n",
       "      <td>77.109936</td>\n",
       "      <td>158.47</td>\n",
       "    </tr>\n",
       "    <tr>\n",
       "      <th>2</th>\n",
       "      <td>28.776200</td>\n",
       "      <td>77.051074</td>\n",
       "      <td>417.00</td>\n",
       "    </tr>\n",
       "    <tr>\n",
       "      <th>3</th>\n",
       "      <td>28.551201</td>\n",
       "      <td>77.273574</td>\n",
       "      <td>196.45</td>\n",
       "    </tr>\n",
       "    <tr>\n",
       "      <th>4</th>\n",
       "      <td>28.750050</td>\n",
       "      <td>77.111261</td>\n",
       "      <td>274.19</td>\n",
       "    </tr>\n",
       "  </tbody>\n",
       "</table>\n",
       "</div>"
      ],
      "text/plain": [
       "    latitude  longitude      pm\n",
       "0  28.815329  77.153010  307.00\n",
       "1  28.470691  77.109936  158.47\n",
       "2  28.776200  77.051074  417.00\n",
       "3  28.551201  77.273574  196.45\n",
       "4  28.750050  77.111261  274.19"
      ]
     },
     "execution_count": 74,
     "metadata": {},
     "output_type": "execute_result"
    }
   ],
   "source": [
    "import pandas as pd\n",
    "df = pd.read_csv('25_oct_7am_static_knn.csv')\n",
    "df.head()\n",
    "# print(df['pm'])"
   ]
  },
  {
   "cell_type": "code",
   "execution_count": 39,
   "metadata": {},
   "outputs": [],
   "source": [
    "from sklearn.model_selection import train_test_split\n",
    "train , test = train_test_split(df, test_size = 0.3)\n",
    "\n",
    "x_train = train.drop('pm', axis=1)\n",
    "y_train = train['pm']\n",
    "\n",
    "x_test = test.drop('pm', axis = 1)\n",
    "y_test = test['pm']"
   ]
  },
  {
   "cell_type": "code",
   "execution_count": 40,
   "metadata": {},
   "outputs": [],
   "source": [
    "from sklearn.preprocessing import MinMaxScaler\n",
    "scaler = MinMaxScaler(feature_range=(0, 1))\n",
    "\n",
    "x_train_scaled = scaler.fit_transform(x_train)\n",
    "x_train = pd.DataFrame(x_train_scaled)\n",
    "\n",
    "x_test_scaled = scaler.fit_transform(x_test)\n",
    "x_test = pd.DataFrame(x_test_scaled)"
   ]
  },
  {
   "cell_type": "code",
   "execution_count": 41,
   "metadata": {},
   "outputs": [],
   "source": [
    "#import required packages\n",
    "from sklearn import neighbors\n",
    "from sklearn.metrics import mean_squared_error \n",
    "from math import sqrt\n",
    "import matplotlib.pyplot as plt\n",
    "%matplotlib inline"
   ]
  },
  {
   "cell_type": "code",
   "execution_count": 42,
   "metadata": {},
   "outputs": [
    {
     "name": "stdout",
     "output_type": "stream",
     "text": [
      "RMSE value for k=  1 is: 145.06556747438955\n",
      "RMSE value for k=  2 is: 173.41546785585956\n",
      "RMSE value for k=  3 is: 140.92301025649817\n",
      "RMSE value for k=  4 is: 111.7029876254187\n",
      "RMSE value for k=  5 is: 90.85320365904062\n",
      "RMSE value for k=  6 is: 98.98011326168654\n"
     ]
    }
   ],
   "source": [
    "rmse_val = [] #to store rmse values for different k\n",
    "for K in range(6):\n",
    "    K = K+1\n",
    "    model = neighbors.KNeighborsRegressor(n_neighbors = K)\n",
    "\n",
    "    model.fit(x_train, y_train)  #fit the model\n",
    "    pred=model.predict(x_test) #make prediction on test set\n",
    "    error = sqrt(mean_squared_error(y_test,pred)) #calculate rmse\n",
    "    rmse_val.append(error) #store rmse values\n",
    "    print('RMSE value for k= ' , K , 'is:', error)"
   ]
  },
  {
   "cell_type": "code",
   "execution_count": 43,
   "metadata": {},
   "outputs": [
    {
     "data": {
      "text/plain": [
       "<matplotlib.axes._subplots.AxesSubplot at 0x31770764c8>"
      ]
     },
     "execution_count": 43,
     "metadata": {},
     "output_type": "execute_result"
    },
    {
     "data": {
      "image/png": "[encoded data removed]",
      "text/plain": [
       "<Figure size 432x288 with 1 Axes>"
      ]
     },
     "metadata": {
      "needs_background": "light"
     },
     "output_type": "display_data"
    }
   ],
   "source": [
    "#plotting the rmse values against k values\n",
    "curve = pd.DataFrame(rmse_val) #elbow curve \n",
    "curve.plot()"
   ]
  },
  {
   "cell_type": "code",
   "execution_count": 76,
   "metadata": {},
   "outputs": [
    {
     "data": {
      "text/plain": [
       "{'n_neighbors': 5}"
      ]
     },
     "execution_count": 76,
     "metadata": {},
     "output_type": "execute_result"
    }
   ],
   "source": [
    "# ---------------------- MAIN CODE --------------------------\n",
    "\n",
    "import pandas as pd\n",
    "df = pd.read_csv('25_oct_7am_static_knn.csv')\n",
    "df.head()\n",
    "\n",
    "from sklearn.model_selection import train_test_split\n",
    "train , test = train_test_split(df, test_size = 0.3,random_state = 1)\n",
    "\n",
    "x_train = train.drop('pm', axis=1)\n",
    "y_train = train['pm']\n",
    "\n",
    "x_test = test.drop('pm', axis = 1)\n",
    "y_test = test['pm']\n",
    "\n",
    "from sklearn.model_selection import GridSearchCV\n",
    "params = {'n_neighbors':[1,2,3,4,5,6]}\n",
    "\n",
    "knn = neighbors.KNeighborsRegressor()\n",
    "#leave one out cross validation\n",
    "model = GridSearchCV(knn, params, cv=len(x_train),scoring = \"neg_root_mean_squared_error\")\n",
    "model.fit(x_train,y_train)\n",
    "model.best_params_\n"
   ]
  },
  {
   "cell_type": "code",
   "execution_count": 77,
   "metadata": {},
   "outputs": [
    {
     "name": "stdout",
     "output_type": "stream",
     "text": [
      "24    207.00\n",
      "17     98.60\n",
      "19    278.00\n",
      "20    198.46\n",
      "14    271.00\n",
      "3     196.45\n",
      "22    160.32\n",
      "10    118.42\n",
      "21    284.00\n",
      "Name: pm, dtype: float64\n",
      "[219.094 225.258 307.802 233.964 343.238 219.4   298.164 223.4   340.438]\n",
      "RMSE value for k=  5 is: 79.78391284797539\n"
     ]
    }
   ],
   "source": [
    "\n",
    "best_k = model.best_params_['n_neighbors']\n",
    "pred=model.predict(x_test) #make prediction on test set\n",
    "print(y_test)\n",
    "print(pred)\n",
    "error = sqrt(mean_squared_error(y_test,pred)) #calculate rmse\n",
    "rmse_val.append(error) #store rmse values\n",
    "print('RMSE value for k= ' , best_k , 'is:', error)"
   ]
  },
  {
   "cell_type": "code",
   "execution_count": 113,
   "metadata": {
    "collapsed": true
   },
   "outputs": [
    {
     "data": {
      "text/html": [
       "<div>\n",
       "<style scoped>\n",
       "    .dataframe tbody tr th:only-of-type {\n",
       "        vertical-align: middle;\n",
       "    }\n",
       "\n",
       "    .dataframe tbody tr th {\n",
       "        vertical-align: top;\n",
       "    }\n",
       "\n",
       "    .dataframe thead th {\n",
       "        text-align: right;\n",
       "    }\n",
       "</style>\n",
       "<table border=\"1\" class=\"dataframe\">\n",
       "  <thead>\n",
       "    <tr style=\"text-align: right;\">\n",
       "      <th></th>\n",
       "      <th>Unnamed: 0</th>\n",
       "      <th>dateTime</th>\n",
       "      <th>deviceId</th>\n",
       "      <th>uid</th>\n",
       "      <th>pressure</th>\n",
       "      <th>temperature</th>\n",
       "      <th>humidity</th>\n",
       "      <th>lat</th>\n",
       "      <th>long</th>\n",
       "      <th>pm1_0</th>\n",
       "      <th>pm2_5</th>\n",
       "      <th>pm10</th>\n",
       "    </tr>\n",
       "  </thead>\n",
       "  <tbody>\n",
       "    <tr>\n",
       "      <th>0</th>\n",
       "      <td>0</td>\n",
       "      <td>2020-10-25 00:00:00+05:30</td>\n",
       "      <td>0000000029c36345</td>\n",
       "      <td>73d3dc0b-65bf-4a22-be54-f2f990c7973f</td>\n",
       "      <td>986.835312</td>\n",
       "      <td>30.24</td>\n",
       "      <td>41.990234</td>\n",
       "      <td>28.579313</td>\n",
       "      <td>77.231171</td>\n",
       "      <td>127.0</td>\n",
       "      <td>203.0</td>\n",
       "      <td>216.0</td>\n",
       "    </tr>\n",
       "    <tr>\n",
       "      <th>1</th>\n",
       "      <td>1</td>\n",
       "      <td>2020-10-25 00:00:02+05:30</td>\n",
       "      <td>000000008f525c6e</td>\n",
       "      <td>e4c4f680-84f3-4d9a-bf87-118e708e7b31</td>\n",
       "      <td>883.380000</td>\n",
       "      <td>135.05</td>\n",
       "      <td>100.000000</td>\n",
       "      <td>28.579489</td>\n",
       "      <td>77.232651</td>\n",
       "      <td>107.0</td>\n",
       "      <td>167.0</td>\n",
       "      <td>187.0</td>\n",
       "    </tr>\n",
       "    <tr>\n",
       "      <th>2</th>\n",
       "      <td>2</td>\n",
       "      <td>2020-10-25 00:00:03+05:30</td>\n",
       "      <td>0000000029c36345</td>\n",
       "      <td>59727130-30df-4881-bcf0-9e659e8b3e88</td>\n",
       "      <td>986.833281</td>\n",
       "      <td>30.24</td>\n",
       "      <td>41.966797</td>\n",
       "      <td>28.579317</td>\n",
       "      <td>77.231171</td>\n",
       "      <td>125.0</td>\n",
       "      <td>199.0</td>\n",
       "      <td>212.0</td>\n",
       "    </tr>\n",
       "    <tr>\n",
       "      <th>3</th>\n",
       "      <td>3</td>\n",
       "      <td>2020-10-25 00:00:11+05:30</td>\n",
       "      <td>000000008f525c6e</td>\n",
       "      <td>4244fe8f-b14a-45f0-83da-203cad2e4815</td>\n",
       "      <td>985.003359</td>\n",
       "      <td>31.05</td>\n",
       "      <td>41.876953</td>\n",
       "      <td>28.579489</td>\n",
       "      <td>77.232658</td>\n",
       "      <td>107.0</td>\n",
       "      <td>171.0</td>\n",
       "      <td>191.0</td>\n",
       "    </tr>\n",
       "    <tr>\n",
       "      <th>4</th>\n",
       "      <td>4</td>\n",
       "      <td>2020-10-25 00:00:11+05:30</td>\n",
       "      <td>0000000029c36345</td>\n",
       "      <td>25a64404-f781-4607-88d8-8b57ab640665</td>\n",
       "      <td>986.830312</td>\n",
       "      <td>30.25</td>\n",
       "      <td>41.956055</td>\n",
       "      <td>28.579317</td>\n",
       "      <td>77.231178</td>\n",
       "      <td>123.0</td>\n",
       "      <td>202.0</td>\n",
       "      <td>213.0</td>\n",
       "    </tr>\n",
       "  </tbody>\n",
       "</table>\n",
       "</div>"
      ],
      "text/plain": [
       "   Unnamed: 0                  dateTime          deviceId  \\\n",
       "0           0 2020-10-25 00:00:00+05:30  0000000029c36345   \n",
       "1           1 2020-10-25 00:00:02+05:30  000000008f525c6e   \n",
       "2           2 2020-10-25 00:00:03+05:30  0000000029c36345   \n",
       "3           3 2020-10-25 00:00:11+05:30  000000008f525c6e   \n",
       "4           4 2020-10-25 00:00:11+05:30  0000000029c36345   \n",
       "\n",
       "                                    uid    pressure  temperature    humidity  \\\n",
       "0  73d3dc0b-65bf-4a22-be54-f2f990c7973f  986.835312        30.24   41.990234   \n",
       "1  e4c4f680-84f3-4d9a-bf87-118e708e7b31  883.380000       135.05  100.000000   \n",
       "2  59727130-30df-4881-bcf0-9e659e8b3e88  986.833281        30.24   41.966797   \n",
       "3  4244fe8f-b14a-45f0-83da-203cad2e4815  985.003359        31.05   41.876953   \n",
       "4  25a64404-f781-4607-88d8-8b57ab640665  986.830312        30.25   41.956055   \n",
       "\n",
       "         lat       long  pm1_0  pm2_5   pm10  \n",
       "0  28.579313  77.231171  127.0  203.0  216.0  \n",
       "1  28.579489  77.232651  107.0  167.0  187.0  \n",
       "2  28.579317  77.231171  125.0  199.0  212.0  \n",
       "3  28.579489  77.232658  107.0  171.0  191.0  \n",
       "4  28.579317  77.231178  123.0  202.0  213.0  "
      ]
     },
     "execution_count": 113,
     "metadata": {},
     "output_type": "execute_result"
    }
   ],
   "source": [
    "## Entire data\n",
    "\n",
    "\n",
    "bus_df = pd.read_csv('2020-10-25_all.csv',parse_dates = [\"dateTime\"])\n",
    "# bus_df.head()"
   ]
  },
  {
   "cell_type": "code",
   "execution_count": 126,
   "metadata": {},
   "outputs": [],
   "source": [
    "# bus_df.iloc[0]['dateTime']\n"
   ]
  },
  {
   "cell_type": "code",
   "execution_count": null,
   "metadata": {},
   "outputs": [],
   "source": []
  },
  {
   "cell_type": "code",
   "execution_count": null,
   "metadata": {},
   "outputs": [],
   "source": [
    "\n"
   ]
  },
  {
   "cell_type": "code",
   "execution_count": 142,
   "metadata": {},
   "outputs": [],
   "source": [
    "# get target hour bucket\n",
    "for i in range(24):\n",
    "    hour_bucket = bus_df.loc[(bus_df.dateTime.apply(lambda x: x.hour) == i), ['lat','long','pm2_5']]\n",
    "#     print(len(hour_bucket))\n",
    "hour_bucket = bus_df.loc[(bus_df.dateTime.apply(lambda x: x.hour) == 7), ['lat','long','pm2_5']]\n",
    "    "
   ]
  },
  {
   "cell_type": "code",
   "execution_count": 138,
   "metadata": {},
   "outputs": [
    {
     "name": "stdout",
     "output_type": "stream",
     "text": [
      "cv =  5\n"
     ]
    },
    {
     "data": {
      "text/plain": [
       "{'n_neighbors': 5}"
      ]
     },
     "execution_count": 138,
     "metadata": {},
     "output_type": "execute_result"
    }
   ],
   "source": [
    "\n",
    "from sklearn.model_selection import train_test_split\n",
    "train , test = train_test_split(hour_bucket, test_size = 0.3,random_state = 1)\n",
    "\n",
    "x_train = train.drop('pm2_5', axis=1)\n",
    "y_train = train['pm2_5']\n",
    "\n",
    "x_test = test.drop('pm2_5', axis = 1)\n",
    "y_test = test['pm2_5']\n",
    "\n",
    "from sklearn.model_selection import GridSearchCV\n",
    "params = {'n_neighbors':[1,2,3,4,5,6]}\n",
    "\n",
    "knn = neighbors.KNeighborsRegressor()\n",
    "#leave one out cross validation\n",
    "cv_param = 0\n",
    "if len(x_train) < 50:\n",
    "    cv_param = len(x_train)   #leave one out\n",
    "else:\n",
    "    cv_param= 5\n",
    "print('cv = ',cv_param)\n",
    "model = GridSearchCV(knn, params, cv=cv_param,scoring = \"neg_root_mean_squared_error\")\n",
    "model.fit(x_train,y_train)\n",
    "model.best_params_\n"
   ]
  },
  {
   "cell_type": "code",
   "execution_count": 139,
   "metadata": {},
   "outputs": [
    {
     "name": "stdout",
     "output_type": "stream",
     "text": [
      "20013    396.0\n",
      "22034    314.0\n",
      "20612    218.0\n",
      "23076    321.0\n",
      "20132    250.0\n",
      "         ...  \n",
      "20663    231.0\n",
      "20005    214.0\n",
      "21321    221.0\n",
      "22033    249.0\n",
      "21644    290.0\n",
      "Name: pm2_5, Length: 1366, dtype: float64\n",
      "[372.2 304.6 222.4 ... 220.  243.  283.6]\n",
      "RMSE value for k=  5 is: 20.740271582121252\n"
     ]
    }
   ],
   "source": [
    "best_k = model.best_params_['n_neighbors']\n",
    "pred=model.predict(x_test) #make prediction on test set\n",
    "print(y_test)\n",
    "print(pred)\n",
    "error = sqrt(mean_squared_error(y_test,pred)) #calculate rmse\n",
    "rmse_val.append(error) #store rmse values\n",
    "print('RMSE value for k= ' , best_k , 'is:', error)"
   ]
  },
  {
   "cell_type": "code",
   "execution_count": null,
   "metadata": {},
   "outputs": [],
   "source": []
  }
 ],
 "metadata": {
  "kernelspec": {
   "display_name": "Python 3",
   "language": "python",
   "name": "python3"
  },
  "language_info": {
   "codemirror_mode": {
    "name": "ipython",
    "version": 3
   },
   "file_extension": ".py",
   "mimetype": "text/x-python",
   "name": "python",
   "nbconvert_exporter": "python",
   "pygments_lexer": "ipython3",
   "version": "3.7.6"
  }
 },
 "nbformat": 4,
 "nbformat_minor": 4
}
