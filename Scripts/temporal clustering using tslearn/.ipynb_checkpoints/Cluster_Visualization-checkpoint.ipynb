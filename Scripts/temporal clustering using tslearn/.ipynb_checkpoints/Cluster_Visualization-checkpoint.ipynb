{
 "cells": [
  {
   "cell_type": "code",
   "execution_count": 149,
   "metadata": {},
   "outputs": [],
   "source": [
    "import tslearn\n",
    "import numpy as np\n",
    "import pandas as pd"
   ]
  },
  {
   "cell_type": "code",
   "execution_count": 150,
   "metadata": {},
   "outputs": [
    {
     "name": "stdout",
     "output_type": "stream",
     "text": [
      "(409,)\n"
     ]
    }
   ],
   "source": [
    "df_input = pd.read_csv('dataset.csv',header=None)\n",
    "np_input = df_input.values\n",
    "print(np_input[0][:].shape)"
   ]
  },
  {
   "cell_type": "code",
   "execution_count": 151,
   "metadata": {},
   "outputs": [
    {
     "name": "stdout",
     "output_type": "stream",
     "text": [
      "(32, 204, 2)\n"
     ]
    }
   ],
   "source": [
    "from tslearn.utils import to_time_series_dataset\n",
    "number_of_stations= np_input.shape[0]\n",
    "number_of_timesteps =  (int)((np_input.shape[1]-1 )/2)\n",
    "number_of_features = 2 # min max\n",
    "X_train = np.zeros(( number_of_stations, number_of_timesteps,  number_of_features  ))\n",
    "for i in range(number_of_stations):     #np_input.shape[0]):\n",
    "    \n",
    "    time_steps = (int)((np_input.shape[1]-1 )/2)\n",
    "#     print(time_steps)\n",
    "    ts = np.zeros(( time_steps , 2 ))\n",
    "    for j in range(1,np_input.shape[1],2):\n",
    "        [mi,ma] = [ np_input[i][j],np_input[i][j+1] ]\n",
    "        ts[(int)((j-1)/2)] = [mi,ma]\n",
    "#     print(ts.shape)\n",
    "    X_train[i] = ts\n",
    "    \n",
    "print(X_train.shape)\n"
   ]
  },
  {
   "cell_type": "code",
   "execution_count": 174,
   "metadata": {},
   "outputs": [
    {
     "name": "stdout",
     "output_type": "stream",
     "text": [
      "[0, 1, 2, 3, 4, 5, 6, 7, 8, 9, 10, 11, 12, 13, 14, 15, 16, 17, 19, 20, 21, 22, 23, 24, 25, 27, 28, 29, 30, 31]\n",
      "(30, 204, 2)\n"
     ]
    }
   ],
   "source": [
    "subset = [i for i in range(32) if i not in [18,26]]\n",
    "print(subset)\n",
    "print(X_train[subset].shape)\n",
    "X_train_subset = X_train[subset]"
   ]
  },
  {
   "cell_type": "code",
   "execution_count": 175,
   "metadata": {},
   "outputs": [
    {
     "data": {
      "text/plain": [
       "TimeSeriesKMeans(dtw_inertia=False, init='k-means++', max_iter=900,\n",
       "                 max_iter_barycenter=100, metric='dtw', metric_params=None,\n",
       "                 n_clusters=4, n_init=1, n_jobs=None, random_state=12,\n",
       "                 tol=1e-08, verbose=0)"
      ]
     },
     "execution_count": 175,
     "metadata": {},
     "output_type": "execute_result"
    }
   ],
   "source": [
    "from tslearn.clustering import TimeSeriesKMeans\n",
    "km = TimeSeriesKMeans(n_clusters=4, metric=\"dtw\",max_iter = 900,tol = 1e-08,random_state= 12)\n",
    "km.fit(X_train_subset)\n"
   ]
  },
  {
   "cell_type": "code",
   "execution_count": 176,
   "metadata": {},
   "outputs": [
    {
     "name": "stdout",
     "output_type": "stream",
     "text": [
      "[0. 0. 0. 3. 0. 0. 3. 3. 3. 0. 3. 0. 0. 3. 3. 3. 0. 3. 0. 3. 3. 2. 0. 0.\n",
      " 3. 3. 3. 1. 0. 0.]\n"
     ]
    }
   ],
   "source": [
    "predictions = km.predict(X_train_subset)\n",
    "c_assign = np.zeros(30)\n",
    "for k in range(4):\n",
    "    c_0 = np.argwhere(predictions==k)\n",
    "    c_assign[c_0] = k\n",
    "#     print(k,c_0)\n",
    "print(c_assign)\n",
    "    "
   ]
  },
  {
   "cell_type": "code",
   "execution_count": 177,
   "metadata": {},
   "outputs": [
    {
     "name": "stdout",
     "output_type": "stream",
     "text": [
      "(30, 204, 2)\n"
     ]
    }
   ],
   "source": [
    "# Assign cluster assignments\n",
    "print(X_train_subset.shape)\n"
   ]
  },
  {
   "cell_type": "code",
   "execution_count": 155,
   "metadata": {},
   "outputs": [
    {
     "name": "stdout",
     "output_type": "stream",
     "text": [
      "(204,)\n",
      "[102.  55.  56.  72. 107.]\n"
     ]
    }
   ],
   "source": [
    "five_station_max =  X_train[0].T[0]\n",
    "# two_station_min_max = X_train[18,29]\n",
    "print(five_station_max.shape)\n",
    "print(five_station_max[:5])"
   ]
  },
  {
   "cell_type": "code",
   "execution_count": 156,
   "metadata": {},
   "outputs": [
    {
     "data": {
      "text/plain": [
       "[<matplotlib.lines.Line2D at 0x1352c62848>]"
      ]
     },
     "execution_count": 156,
     "metadata": {},
     "output_type": "execute_result"
    },
    {
     "data": {
      "image/png": "[encoded data removed]",
      "text/plain": [
       "<Figure size 432x288 with 1 Axes>"
      ]
     },
     "metadata": {
      "needs_background": "light"
     },
     "output_type": "display_data"
    }
   ],
   "source": [
    "\n",
    "# one_station_min_max.reshape((1,204,2))\n",
    "\n",
    "# np.reshape(one_station_min_max,(1,204,2) )\n",
    "\n",
    "one_station_max = one_station_min_max.T[0]\n",
    "x = [ i for i in range(204)]\n",
    "# print(x.s)\n",
    "y = five_station_max\n",
    "from matplotlib import pyplot as plt\n",
    "plt.plot(x,y)"
   ]
  },
  {
   "cell_type": "code",
   "execution_count": 183,
   "metadata": {},
   "outputs": [
    {
     "name": "stdout",
     "output_type": "stream",
     "text": [
      "[ 0  1  2  4  5  9 11 12 16 18 22 23 28 29] 171.0424836601307\n",
      "[ 0  1  2  4  5  9 11 12 16 18 22 23 28 29] 211.89215686274514\n",
      "[ 0  1  2  4  5  9 11 12 16 18 22 23 28 29] 184.2303921568627\n",
      "[ 0  1  2  4  5  9 11 12 16 18 22 23 28 29] 174.73856209150327\n",
      "[ 0  1  2  4  5  9 11 12 16 18 22 23 28 29] 221.11437908496728\n",
      "[ 0  1  2  4  5  9 11 12 16 18 22 23 28 29] 168.10947712418303\n",
      "[ 0  1  2  4  5  9 11 12 16 18 22 23 28 29] 165.91013071895426\n",
      "[ 0  1  2  4  5  9 11 12 16 18 22 23 28 29] 240.57516339869278\n",
      "[ 0  1  2  4  5  9 11 12 16 18 22 23 28 29] 165.45359477124182\n",
      "[ 0  1  2  4  5  9 11 12 16 18 22 23 28 29] 228.13398692810455\n",
      "[ 0  1  2  4  5  9 11 12 16 18 22 23 28 29] 151.03104575163397\n",
      "[ 0  1  2  4  5  9 11 12 16 18 22 23 28 29] 220.5392156862745\n",
      "[ 0  1  2  4  5  9 11 12 16 18 22 23 28 29] 167.75196078431378\n",
      "[ 0  1  2  4  5  9 11 12 16 18 22 23 28 29] 157.4892973856209\n",
      "cluster  0 --> 187.71513188608776\n",
      "[27] 193.933545751634\n",
      "cluster  1 --> 193.933545751634\n",
      "[21] 155.16830065359477\n",
      "cluster  2 --> 155.16830065359477\n",
      "[ 3  6  7  8 10 13 14 15 17 19 20 24 25 26] 164.59310457516338\n",
      "[ 3  6  7  8 10 13 14 15 17 19 20 24 25 26] 217.08169934640517\n",
      "[ 3  6  7  8 10 13 14 15 17 19 20 24 25 26] 175.77124183006535\n",
      "[ 3  6  7  8 10 13 14 15 17 19 20 24 25 26] 145.65849673202615\n",
      "[ 3  6  7  8 10 13 14 15 17 19 20 24 25 26] 162.62254901960785\n",
      "[ 3  6  7  8 10 13 14 15 17 19 20 24 25 26] 161.1764705882353\n",
      "[ 3  6  7  8 10 13 14 15 17 19 20 24 25 26] 221.58333333333334\n",
      "[ 3  6  7  8 10 13 14 15 17 19 20 24 25 26] 192.673431372549\n",
      "[ 3  6  7  8 10 13 14 15 17 19 20 24 25 26] 150.35947712418303\n",
      "[ 3  6  7  8 10 13 14 15 17 19 20 24 25 26] 184.7890522875817\n",
      "[ 3  6  7  8 10 13 14 15 17 19 20 24 25 26] 166.3687745098039\n",
      "[ 3  6  7  8 10 13 14 15 17 19 20 24 25 26] 193.37418300653596\n",
      "[ 3  6  7  8 10 13 14 15 17 19 20 24 25 26] 191.66666666666666\n",
      "[ 3  6  7  8 10 13 14 15 17 19 20 24 25 26] 147.00980392156862\n",
      "cluster  3 --> 176.76630602240894\n"
     ]
    },
    {
     "data": {
      "image/png": "[encoded data removed]",
      "text/plain": [
       "<Figure size 432x288 with 1 Axes>"
      ]
     },
     "metadata": {
      "needs_background": "light"
     },
     "output_type": "display_data"
    }
   ],
   "source": [
    "x = [ i for i in range(204)]\n",
    "\n",
    "colors = ['green','red','blue','yellow','purple','cyan']\n",
    "K = 4\n",
    "for k in range(K):\n",
    "    cluster_avg = 0\n",
    "    size =0\n",
    "    c_k_stations = np.argwhere(c_assign == k).flatten()\n",
    "    for station in c_k_stations:\n",
    "        \n",
    "        temporal_trend_max  = X_train_subset[station].T[0]\n",
    "        y = temporal_trend_max\n",
    "        cluster_avg += np.sum(y)\n",
    "        print(c_k_stations,np.sum(y)/204)\n",
    "        size +=1\n",
    "        if(k in [0,3]):\n",
    "            plt.plot(x,y,color = colors[k])\n",
    "    print(\"cluster \",k,\"-->\",cluster_avg/(size*204))\n",
    "    \n",
    "plt.show()\n",
    "\n",
    "    "
   ]
  },
  {
   "cell_type": "code",
   "execution_count": null,
   "metadata": {},
   "outputs": [],
   "source": []
  },
  {
   "cell_type": "code",
   "execution_count": null,
   "metadata": {},
   "outputs": [],
   "source": []
  },
  {
   "cell_type": "code",
   "execution_count": 101,
   "metadata": {
    "collapsed": true
   },
   "outputs": [
    {
     "data": {
      "text/html": [
       "<div>\n",
       "<style scoped>\n",
       "    .dataframe tbody tr th:only-of-type {\n",
       "        vertical-align: middle;\n",
       "    }\n",
       "\n",
       "    .dataframe tbody tr th {\n",
       "        vertical-align: top;\n",
       "    }\n",
       "\n",
       "    .dataframe thead th {\n",
       "        text-align: right;\n",
       "    }\n",
       "</style>\n",
       "<table border=\"1\" class=\"dataframe\">\n",
       "  <thead>\n",
       "    <tr style=\"text-align: right;\">\n",
       "      <th></th>\n",
       "      <th>location</th>\n",
       "      <th>latitude</th>\n",
       "      <th>longitude</th>\n",
       "    </tr>\n",
       "  </thead>\n",
       "  <tbody>\n",
       "    <tr>\n",
       "      <th>0</th>\n",
       "      <td>Sonia Vihar, Delhi - DPCC</td>\n",
       "      <td>28.710508</td>\n",
       "      <td>77.249485</td>\n",
       "    </tr>\n",
       "    <tr>\n",
       "      <th>1</th>\n",
       "      <td>Vivek Vihar, Delhi - DPCC</td>\n",
       "      <td>28.672342</td>\n",
       "      <td>77.315260</td>\n",
       "    </tr>\n",
       "    <tr>\n",
       "      <th>2</th>\n",
       "      <td>Okhla Phase-2, Delhi - DPCC</td>\n",
       "      <td>28.530785</td>\n",
       "      <td>77.271255</td>\n",
       "    </tr>\n",
       "    <tr>\n",
       "      <th>3</th>\n",
       "      <td>NSIT Dwarka, Delhi - CPCB</td>\n",
       "      <td>28.609090</td>\n",
       "      <td>77.032541</td>\n",
       "    </tr>\n",
       "    <tr>\n",
       "      <th>4</th>\n",
       "      <td>Jawaharlal Nehru Stadium, Delhi - DPCC</td>\n",
       "      <td>28.580280</td>\n",
       "      <td>77.233829</td>\n",
       "    </tr>\n",
       "    <tr>\n",
       "      <th>5</th>\n",
       "      <td>Ashok Vihar, Delhi - DPCC</td>\n",
       "      <td>28.695381</td>\n",
       "      <td>77.181665</td>\n",
       "    </tr>\n",
       "    <tr>\n",
       "      <th>6</th>\n",
       "      <td>Anand Vihar, Delhi - DPCC</td>\n",
       "      <td>28.646835</td>\n",
       "      <td>77.316032</td>\n",
       "    </tr>\n",
       "    <tr>\n",
       "      <th>7</th>\n",
       "      <td>Mundka, Delhi - DPCC</td>\n",
       "      <td>28.684678</td>\n",
       "      <td>77.076574</td>\n",
       "    </tr>\n",
       "    <tr>\n",
       "      <th>8</th>\n",
       "      <td>Narela, Delhi - DPCC</td>\n",
       "      <td>28.822836</td>\n",
       "      <td>77.101981</td>\n",
       "    </tr>\n",
       "    <tr>\n",
       "      <th>9</th>\n",
       "      <td>Sri Aurobindo Marg, Delhi - DPCC</td>\n",
       "      <td>28.531346</td>\n",
       "      <td>77.190156</td>\n",
       "    </tr>\n",
       "    <tr>\n",
       "      <th>10</th>\n",
       "      <td>Patparganj, Delhi - DPCC</td>\n",
       "      <td>28.623748</td>\n",
       "      <td>77.287205</td>\n",
       "    </tr>\n",
       "    <tr>\n",
       "      <th>11</th>\n",
       "      <td>Alipur, Delhi - DPCC</td>\n",
       "      <td>28.815329</td>\n",
       "      <td>77.153010</td>\n",
       "    </tr>\n",
       "    <tr>\n",
       "      <th>12</th>\n",
       "      <td>Mandir Marg, Delhi - DPCC</td>\n",
       "      <td>28.636429</td>\n",
       "      <td>77.201067</td>\n",
       "    </tr>\n",
       "    <tr>\n",
       "      <th>13</th>\n",
       "      <td>Nehru Nagar, Delhi - DPCC</td>\n",
       "      <td>28.567890</td>\n",
       "      <td>77.250515</td>\n",
       "    </tr>\n",
       "    <tr>\n",
       "      <th>14</th>\n",
       "      <td>Dr. Karni Singh Shooting Range, Delhi - DPCC</td>\n",
       "      <td>28.498571</td>\n",
       "      <td>77.264840</td>\n",
       "    </tr>\n",
       "    <tr>\n",
       "      <th>15</th>\n",
       "      <td>Bawana, Delhi - DPCC</td>\n",
       "      <td>28.776200</td>\n",
       "      <td>77.051074</td>\n",
       "    </tr>\n",
       "    <tr>\n",
       "      <th>16</th>\n",
       "      <td>Pusa, Delhi - IMD</td>\n",
       "      <td>28.639645</td>\n",
       "      <td>77.146263</td>\n",
       "    </tr>\n",
       "    <tr>\n",
       "      <th>17</th>\n",
       "      <td>CRRI Mathura Road, Delhi - IMD</td>\n",
       "      <td>28.551201</td>\n",
       "      <td>77.273574</td>\n",
       "    </tr>\n",
       "    <tr>\n",
       "      <th>18</th>\n",
       "      <td>North Campus, DU, Delhi - IMD</td>\n",
       "      <td>28.657381</td>\n",
       "      <td>77.158545</td>\n",
       "    </tr>\n",
       "    <tr>\n",
       "      <th>19</th>\n",
       "      <td>IHBAS, Dilshad Garden, Delhi - CPCB</td>\n",
       "      <td>28.681174</td>\n",
       "      <td>77.302523</td>\n",
       "    </tr>\n",
       "    <tr>\n",
       "      <th>20</th>\n",
       "      <td>Major Dhyan Chand National Stadium, Delhi - DPCC</td>\n",
       "      <td>28.611281</td>\n",
       "      <td>77.237738</td>\n",
       "    </tr>\n",
       "    <tr>\n",
       "      <th>21</th>\n",
       "      <td>Rohini, Delhi - DPCC</td>\n",
       "      <td>28.732528</td>\n",
       "      <td>77.119920</td>\n",
       "    </tr>\n",
       "    <tr>\n",
       "      <th>22</th>\n",
       "      <td>Jahangirpuri, Delhi - DPCC</td>\n",
       "      <td>28.732820</td>\n",
       "      <td>77.170633</td>\n",
       "    </tr>\n",
       "    <tr>\n",
       "      <th>23</th>\n",
       "      <td>Shadipur, Delhi - CPCB</td>\n",
       "      <td>28.651478</td>\n",
       "      <td>77.147311</td>\n",
       "    </tr>\n",
       "    <tr>\n",
       "      <th>24</th>\n",
       "      <td>Lodhi Road, Delhi - IMD</td>\n",
       "      <td>28.591825</td>\n",
       "      <td>77.227307</td>\n",
       "    </tr>\n",
       "    <tr>\n",
       "      <th>25</th>\n",
       "      <td>US Diplomatic Post: New Delhi</td>\n",
       "      <td>28.635760</td>\n",
       "      <td>77.224450</td>\n",
       "    </tr>\n",
       "    <tr>\n",
       "      <th>26</th>\n",
       "      <td>R K Puram, Delhi - DPCC</td>\n",
       "      <td>28.674045</td>\n",
       "      <td>77.131023</td>\n",
       "    </tr>\n",
       "    <tr>\n",
       "      <th>27</th>\n",
       "      <td>Wazirpur, Delhi - DPCC</td>\n",
       "      <td>28.699793</td>\n",
       "      <td>77.165453</td>\n",
       "    </tr>\n",
       "    <tr>\n",
       "      <th>28</th>\n",
       "      <td>Punjabi Bagh, Delhi - DPCC</td>\n",
       "      <td>28.563262</td>\n",
       "      <td>77.186937</td>\n",
       "    </tr>\n",
       "    <tr>\n",
       "      <th>29</th>\n",
       "      <td>DTU, Delhi - CPCB</td>\n",
       "      <td>28.750050</td>\n",
       "      <td>77.111261</td>\n",
       "    </tr>\n",
       "    <tr>\n",
       "      <th>30</th>\n",
       "      <td>Sirifort, Delhi - CPCB</td>\n",
       "      <td>28.550425</td>\n",
       "      <td>77.215938</td>\n",
       "    </tr>\n",
       "    <tr>\n",
       "      <th>31</th>\n",
       "      <td>Dwarka-Sector 8, Delhi - DPCC</td>\n",
       "      <td>28.571027</td>\n",
       "      <td>77.071901</td>\n",
       "    </tr>\n",
       "    <tr>\n",
       "      <th>32</th>\n",
       "      <td>Najafgarh, Delhi - DPCC</td>\n",
       "      <td>28.570173</td>\n",
       "      <td>76.933762</td>\n",
       "    </tr>\n",
       "    <tr>\n",
       "      <th>33</th>\n",
       "      <td>ITO, Delhi - CPCB</td>\n",
       "      <td>28.631695</td>\n",
       "      <td>77.249439</td>\n",
       "    </tr>\n",
       "    <tr>\n",
       "      <th>34</th>\n",
       "      <td>Aya Nagar, Delhi - IMD</td>\n",
       "      <td>28.470691</td>\n",
       "      <td>77.109936</td>\n",
       "    </tr>\n",
       "    <tr>\n",
       "      <th>35</th>\n",
       "      <td>IGI Airport (T3), Delhi - IMD</td>\n",
       "      <td>28.562776</td>\n",
       "      <td>77.118005</td>\n",
       "    </tr>\n",
       "    <tr>\n",
       "      <th>36</th>\n",
       "      <td>Burari Crossing, Delhi - IMD</td>\n",
       "      <td>28.725650</td>\n",
       "      <td>77.201157</td>\n",
       "    </tr>\n",
       "  </tbody>\n",
       "</table>\n",
       "</div>"
      ],
      "text/plain": [
       "                                            location   latitude  longitude\n",
       "0                          Sonia Vihar, Delhi - DPCC  28.710508  77.249485\n",
       "1                          Vivek Vihar, Delhi - DPCC  28.672342  77.315260\n",
       "2                        Okhla Phase-2, Delhi - DPCC  28.530785  77.271255\n",
       "3                          NSIT Dwarka, Delhi - CPCB  28.609090  77.032541\n",
       "4             Jawaharlal Nehru Stadium, Delhi - DPCC  28.580280  77.233829\n",
       "5                          Ashok Vihar, Delhi - DPCC  28.695381  77.181665\n",
       "6                          Anand Vihar, Delhi - DPCC  28.646835  77.316032\n",
       "7                               Mundka, Delhi - DPCC  28.684678  77.076574\n",
       "8                               Narela, Delhi - DPCC  28.822836  77.101981\n",
       "9                   Sri Aurobindo Marg, Delhi - DPCC  28.531346  77.190156\n",
       "10                          Patparganj, Delhi - DPCC  28.623748  77.287205\n",
       "11                              Alipur, Delhi - DPCC  28.815329  77.153010\n",
       "12                         Mandir Marg, Delhi - DPCC  28.636429  77.201067\n",
       "13                         Nehru Nagar, Delhi - DPCC  28.567890  77.250515\n",
       "14      Dr. Karni Singh Shooting Range, Delhi - DPCC  28.498571  77.264840\n",
       "15                              Bawana, Delhi - DPCC  28.776200  77.051074\n",
       "16                                 Pusa, Delhi - IMD  28.639645  77.146263\n",
       "17                    CRRI Mathura Road, Delhi - IMD  28.551201  77.273574\n",
       "18                     North Campus, DU, Delhi - IMD  28.657381  77.158545\n",
       "19               IHBAS, Dilshad Garden, Delhi - CPCB  28.681174  77.302523\n",
       "20  Major Dhyan Chand National Stadium, Delhi - DPCC  28.611281  77.237738\n",
       "21                              Rohini, Delhi - DPCC  28.732528  77.119920\n",
       "22                        Jahangirpuri, Delhi - DPCC  28.732820  77.170633\n",
       "23                            Shadipur, Delhi - CPCB  28.651478  77.147311\n",
       "24                           Lodhi Road, Delhi - IMD  28.591825  77.227307\n",
       "25                     US Diplomatic Post: New Delhi  28.635760  77.224450\n",
       "26                           R K Puram, Delhi - DPCC  28.674045  77.131023\n",
       "27                            Wazirpur, Delhi - DPCC  28.699793  77.165453\n",
       "28                        Punjabi Bagh, Delhi - DPCC  28.563262  77.186937\n",
       "29                                 DTU, Delhi - CPCB  28.750050  77.111261\n",
       "30                            Sirifort, Delhi - CPCB  28.550425  77.215938\n",
       "31                    Dwarka-Sector 8, Delhi - DPCC   28.571027  77.071901\n",
       "32                           Najafgarh, Delhi - DPCC  28.570173  76.933762\n",
       "33                                 ITO, Delhi - CPCB  28.631695  77.249439\n",
       "34                            Aya Nagar, Delhi - IMD  28.470691  77.109936\n",
       "35                     IGI Airport (T3), Delhi - IMD  28.562776  77.118005\n",
       "36                      Burari Crossing, Delhi - IMD  28.725650  77.201157"
      ]
     },
     "execution_count": 101,
     "metadata": {},
     "output_type": "execute_result"
    }
   ],
   "source": [
    "# #-------------------------FOR CARTO PLOT--------------------------------------------------------\n",
    "# data_dir = '../../Data/'\n",
    "# import pandas as pd\n",
    "# df=pd.read_csv(data_dir+'location_name_lat_lon.csv', sep=',')\n",
    "# df"
   ]
  },
  {
   "cell_type": "code",
   "execution_count": 82,
   "metadata": {
    "collapsed": true
   },
   "outputs": [
    {
     "name": "stdout",
     "output_type": "stream",
     "text": [
      "(32, 409)\n",
      "['Sonia Vihar, Delhi - DPCC' 'Vivek Vihar, Delhi - DPCC'\n",
      " 'Okhla Phase-2, Delhi - DPCC' 'NSIT Dwarka, Delhi - CPCB'\n",
      " 'Jawaharlal Nehru Stadium, Delhi - DPCC' 'Ashok Vihar, Delhi - DPCC'\n",
      " 'Mundka, Delhi - DPCC' 'Narela, Delhi - DPCC'\n",
      " 'Sri Aurobindo Marg, Delhi - DPCC' 'Patparganj, Delhi - DPCC'\n",
      " 'Alipur, Delhi - DPCC' 'Mandir Marg, Delhi - DPCC'\n",
      " 'Nehru Nagar, Delhi - DPCC'\n",
      " 'Dr. Karni Singh Shooting Range, Delhi - DPCC' 'Bawana, Delhi - DPCC'\n",
      " 'CRRI Mathura Road, Delhi - IMD' 'IHBAS, Dilshad Garden, Delhi - CPCB'\n",
      " 'Major Dhyan Chand National Stadium, Delhi - DPCC' 'Rohini, Delhi - DPCC'\n",
      " 'Jahangirpuri, Delhi - DPCC' 'Shadipur, Delhi - CPCB'\n",
      " 'Lodhi Road, Delhi - IMD' 'US Diplomatic Post: New Delhi'\n",
      " 'R K Puram, Delhi - DPCC' 'Wazirpur, Delhi - DPCC'\n",
      " 'Punjabi Bagh, Delhi - DPCC' 'DTU, Delhi - CPCB'\n",
      " 'Dwarka-Sector 8, Delhi - DPCC ' 'Najafgarh, Delhi - DPCC'\n",
      " 'ITO, Delhi - CPCB' 'Aya Nagar, Delhi - IMD'\n",
      " 'IGI Airport (T3), Delhi - IMD']\n"
     ]
    }
   ],
   "source": [
    "# df_input = pd.read_csv('dataset.csv',header=None)\n",
    "# np_input = df_input.values\n",
    "# print(np_input.shape)\n",
    "# print(np_input[:,0])"
   ]
  },
  {
   "cell_type": "code",
   "execution_count": 104,
   "metadata": {
    "collapsed": true
   },
   "outputs": [
    {
     "name": "stdout",
     "output_type": "stream",
     "text": [
      "Sonia Vihar, Delhi - DPCC 28.710508\n",
      "Vivek Vihar, Delhi - DPCC 28.672341999999997\n",
      "Okhla Phase-2, Delhi - DPCC 28.530784999999998\n",
      "NSIT Dwarka, Delhi - CPCB 28.609090000000002\n",
      "Jawaharlal Nehru Stadium, Delhi - DPCC 28.58028\n",
      "Ashok Vihar, Delhi - DPCC 28.695381\n",
      "Mundka, Delhi - DPCC 28.684678\n",
      "Narela, Delhi - DPCC 28.822836\n",
      "Sri Aurobindo Marg, Delhi - DPCC 28.531346000000003\n",
      "Patparganj, Delhi - DPCC 28.623748\n",
      "Alipur, Delhi - DPCC 28.815329\n",
      "Mandir Marg, Delhi - DPCC 28.636428999999996\n",
      "Nehru Nagar, Delhi - DPCC 28.567890000000002\n",
      "Dr. Karni Singh Shooting Range, Delhi - DPCC 28.498571000000002\n",
      "Bawana, Delhi - DPCC 28.7762\n",
      "CRRI Mathura Road, Delhi - IMD 28.5512005\n",
      "IHBAS, Dilshad Garden, Delhi - CPCB 28.681173600000005\n",
      "Major Dhyan Chand National Stadium, Delhi - DPCC 28.611280999999998\n",
      "Rohini, Delhi - DPCC 28.732528000000002\n",
      "Jahangirpuri, Delhi - DPCC 28.73282\n",
      "Shadipur, Delhi - CPCB 28.651478100000002\n",
      "Lodhi Road, Delhi - IMD 28.5918245\n",
      "US Diplomatic Post: New Delhi 28.635759999999998\n",
      "R K Puram, Delhi - DPCC 28.674045\n",
      "Wazirpur, Delhi - DPCC 28.699793\n",
      "Punjabi Bagh, Delhi - DPCC 28.563261999999998\n",
      "DTU, Delhi - CPCB 28.7500499\n",
      "Dwarka-Sector 8, Delhi - DPCC  28.5710274\n",
      "Najafgarh, Delhi - DPCC 28.570172999999997\n",
      "ITO, Delhi - CPCB 28.631694500000002\n",
      "Aya Nagar, Delhi - IMD 28.4706914\n",
      "IGI Airport (T3), Delhi - IMD 28.562776300000003\n",
      "32\n"
     ]
    }
   ],
   "source": [
    "# clusters = []\n",
    "# lat = []\n",
    "# long = []\n",
    "# location = []\n",
    "# for i in range(np_input.shape[0]):\n",
    "#     loc = np_input[i,0]\n",
    "#     for j in range(df.shape[0]):\n",
    "#         if(df['location'][j]==loc):\n",
    "#             location.append(loc)\n",
    "#             lat.append( df['latitude'][j])\n",
    "#             long.append(df['longitude'][j])\n",
    "#             print(loc,df['latitude'][j])\n",
    "#     clusters.append(c_assign[i])\n",
    "    \n",
    "# #     df['Cluster'][loc] = c_assign[i]\n",
    "# print(len(clusters))\n",
    "# # print(long)\n",
    "    "
   ]
  },
  {
   "cell_type": "code",
   "execution_count": 91,
   "metadata": {},
   "outputs": [],
   "source": [
    "# df_input['Cluster'] = clusters"
   ]
  },
  {
   "cell_type": "code",
   "execution_count": 93,
   "metadata": {
    "collapsed": true
   },
   "outputs": [
    {
     "data": {
      "text/plain": [
       "(32, 410)"
      ]
     },
     "execution_count": 93,
     "metadata": {},
     "output_type": "execute_result"
    }
   ],
   "source": [
    "# df_input.shape"
   ]
  },
  {
   "cell_type": "code",
   "execution_count": 107,
   "metadata": {},
   "outputs": [],
   "source": [
    "# new_df = pd.DataFrame() "
   ]
  },
  {
   "cell_type": "code",
   "execution_count": 110,
   "metadata": {},
   "outputs": [],
   "source": [
    "# new_df[\"location\"] = location\n",
    "# new_df[\"latitude\"] = lat\n",
    "# new_df[\"longitude\"] = long\n",
    "# new_df[\"cluster\"] = clusters"
   ]
  },
  {
   "cell_type": "code",
   "execution_count": 111,
   "metadata": {
    "collapsed": true
   },
   "outputs": [
    {
     "name": "stdout",
     "output_type": "stream",
     "text": [
      "                                            location   latitude  longitude  \\\n",
      "0                          Sonia Vihar, Delhi - DPCC  28.710508  77.249485   \n",
      "1                          Vivek Vihar, Delhi - DPCC  28.672342  77.315260   \n",
      "2                        Okhla Phase-2, Delhi - DPCC  28.530785  77.271255   \n",
      "3                          NSIT Dwarka, Delhi - CPCB  28.609090  77.032541   \n",
      "4             Jawaharlal Nehru Stadium, Delhi - DPCC  28.580280  77.233829   \n",
      "5                          Ashok Vihar, Delhi - DPCC  28.695381  77.181665   \n",
      "6                               Mundka, Delhi - DPCC  28.684678  77.076574   \n",
      "7                               Narela, Delhi - DPCC  28.822836  77.101981   \n",
      "8                   Sri Aurobindo Marg, Delhi - DPCC  28.531346  77.190156   \n",
      "9                           Patparganj, Delhi - DPCC  28.623748  77.287205   \n",
      "10                              Alipur, Delhi - DPCC  28.815329  77.153010   \n",
      "11                         Mandir Marg, Delhi - DPCC  28.636429  77.201067   \n",
      "12                         Nehru Nagar, Delhi - DPCC  28.567890  77.250515   \n",
      "13      Dr. Karni Singh Shooting Range, Delhi - DPCC  28.498571  77.264840   \n",
      "14                              Bawana, Delhi - DPCC  28.776200  77.051074   \n",
      "15                    CRRI Mathura Road, Delhi - IMD  28.551201  77.273574   \n",
      "16               IHBAS, Dilshad Garden, Delhi - CPCB  28.681174  77.302523   \n",
      "17  Major Dhyan Chand National Stadium, Delhi - DPCC  28.611281  77.237738   \n",
      "18                              Rohini, Delhi - DPCC  28.732528  77.119920   \n",
      "19                        Jahangirpuri, Delhi - DPCC  28.732820  77.170633   \n",
      "20                            Shadipur, Delhi - CPCB  28.651478  77.147311   \n",
      "21                           Lodhi Road, Delhi - IMD  28.591825  77.227307   \n",
      "22                     US Diplomatic Post: New Delhi  28.635760  77.224450   \n",
      "23                           R K Puram, Delhi - DPCC  28.674045  77.131023   \n",
      "24                            Wazirpur, Delhi - DPCC  28.699793  77.165453   \n",
      "25                        Punjabi Bagh, Delhi - DPCC  28.563262  77.186937   \n",
      "26                                 DTU, Delhi - CPCB  28.750050  77.111261   \n",
      "27                    Dwarka-Sector 8, Delhi - DPCC   28.571027  77.071901   \n",
      "28                           Najafgarh, Delhi - DPCC  28.570173  76.933762   \n",
      "29                                 ITO, Delhi - CPCB  28.631695  77.249439   \n",
      "30                            Aya Nagar, Delhi - IMD  28.470691  77.109936   \n",
      "31                     IGI Airport (T3), Delhi - IMD  28.562776  77.118005   \n",
      "\n",
      "    cluster  \n",
      "0       0.0  \n",
      "1       5.0  \n",
      "2       5.0  \n",
      "3       0.0  \n",
      "4       0.0  \n",
      "5       5.0  \n",
      "6       3.0  \n",
      "7       0.0  \n",
      "8       0.0  \n",
      "9       0.0  \n",
      "10      0.0  \n",
      "11      0.0  \n",
      "12      5.0  \n",
      "13      0.0  \n",
      "14      3.0  \n",
      "15      3.0  \n",
      "16      0.0  \n",
      "17      0.0  \n",
      "18      1.0  \n",
      "19      5.0  \n",
      "20      3.0  \n",
      "21      0.0  \n",
      "22      4.0  \n",
      "23      0.0  \n",
      "24      5.0  \n",
      "25      3.0  \n",
      "26      3.0  \n",
      "27      0.0  \n",
      "28      0.0  \n",
      "29      2.0  \n",
      "30      0.0  \n",
      "31      0.0  \n"
     ]
    }
   ],
   "source": [
    "# print(new_df)"
   ]
  },
  {
   "cell_type": "code",
   "execution_count": 112,
   "metadata": {},
   "outputs": [],
   "source": [
    "# new_df.to_csv(\"locations_with_cluster_assignments_6Ckusters.csv\")"
   ]
  },
  {
   "cell_type": "code",
   "execution_count": null,
   "metadata": {},
   "outputs": [],
   "source": []
  }
 ],
 "metadata": {
  "kernelspec": {
   "display_name": "Python 3",
   "language": "python",
   "name": "python3"
  },
  "language_info": {
   "codemirror_mode": {
    "name": "ipython",
    "version": 3
   },
   "file_extension": ".py",
   "mimetype": "text/x-python",
   "name": "python",
   "nbconvert_exporter": "python",
   "pygments_lexer": "ipython3",
   "version": "3.7.6"
  }
 },
 "nbformat": 4,
 "nbformat_minor": 4
}
