{
 "cells": [
  {
   "cell_type": "code",
   "execution_count": 1,
   "metadata": {},
   "outputs": [],
   "source": [
    "import tslearn\n",
    "import numpy as np\n",
    "import pandas as pd"
   ]
  },
  {
   "cell_type": "code",
   "execution_count": 2,
   "metadata": {},
   "outputs": [
    {
     "name": "stdout",
     "output_type": "stream",
     "text": [
      "(32, 205)\n"
     ]
    }
   ],
   "source": [
    "df_input = pd.read_csv('dataset_median_without_outliers.csv',header=None)\n",
    "np_input = df_input.values\n",
    "print(np_input.shape)"
   ]
  },
  {
   "cell_type": "code",
   "execution_count": 3,
   "metadata": {},
   "outputs": [
    {
     "name": "stdout",
     "output_type": "stream",
     "text": [
      "(32, 204)\n"
     ]
    }
   ],
   "source": [
    "X_train = np_input[:,1:]\n",
    "print(X_train.shape)"
   ]
  },
  {
   "cell_type": "code",
   "execution_count": 4,
   "metadata": {},
   "outputs": [
    {
     "name": "stderr",
     "output_type": "stream",
     "text": [
      "c:\\users\\chinmay\\appdata\\local\\programs\\python\\python37\\lib\\site-packages\\sklearn\\utils\\deprecation.py:144: FutureWarning: The sklearn.cluster.k_means_ module is  deprecated in version 0.22 and will be removed in version 0.24. The corresponding classes / functions should instead be imported from sklearn.cluster. Anything that cannot be imported from sklearn.cluster is now part of the private API.\n",
      "  warnings.warn(message, FutureWarning)\n",
      "c:\\users\\chinmay\\appdata\\local\\programs\\python\\python37\\lib\\site-packages\\tslearn\\bases.py:15: UserWarning: h5py not installed, hdf5 features will not be supported.\n",
      "Install h5py to use hdf5 features: http://docs.h5py.org/\n",
      "  warn(h5py_msg)\n",
      "c:\\users\\chinmay\\appdata\\local\\programs\\python\\python37\\lib\\site-packages\\tslearn\\utils.py:91: UserWarning: 2-Dimensional data passed. Assuming these are 32 1-dimensional timeseries\n",
      "  '{} 1-dimensional timeseries'.format(X.shape[0]))\n"
     ]
    },
    {
     "name": "stdout",
     "output_type": "stream",
     "text": [
      "116587.97420254801\n",
      "32 ----------------------------------------\n"
     ]
    },
    {
     "name": "stderr",
     "output_type": "stream",
     "text": [
      "c:\\users\\chinmay\\appdata\\local\\programs\\python\\python37\\lib\\site-packages\\tslearn\\utils.py:91: UserWarning: 2-Dimensional data passed. Assuming these are 32 1-dimensional timeseries\n",
      "  '{} 1-dimensional timeseries'.format(X.shape[0]))\n"
     ]
    },
    {
     "name": "stdout",
     "output_type": "stream",
     "text": [
      "82471.25373530501\n",
      "14 18 ----------------------------------------\n"
     ]
    },
    {
     "name": "stderr",
     "output_type": "stream",
     "text": [
      "c:\\users\\chinmay\\appdata\\local\\programs\\python\\python37\\lib\\site-packages\\tslearn\\utils.py:91: UserWarning: 2-Dimensional data passed. Assuming these are 32 1-dimensional timeseries\n",
      "  '{} 1-dimensional timeseries'.format(X.shape[0]))\n"
     ]
    },
    {
     "name": "stdout",
     "output_type": "stream",
     "text": [
      "76840.86405882836\n",
      "6 12 14 ----------------------------------------\n"
     ]
    },
    {
     "name": "stderr",
     "output_type": "stream",
     "text": [
      "c:\\users\\chinmay\\appdata\\local\\programs\\python\\python37\\lib\\site-packages\\tslearn\\utils.py:91: UserWarning: 2-Dimensional data passed. Assuming these are 32 1-dimensional timeseries\n",
      "  '{} 1-dimensional timeseries'.format(X.shape[0]))\n"
     ]
    },
    {
     "name": "stdout",
     "output_type": "stream",
     "text": [
      "63941.29507421222\n",
      "10 5 10 7 ----------------------------------------\n"
     ]
    },
    {
     "name": "stderr",
     "output_type": "stream",
     "text": [
      "c:\\users\\chinmay\\appdata\\local\\programs\\python\\python37\\lib\\site-packages\\tslearn\\utils.py:91: UserWarning: 2-Dimensional data passed. Assuming these are 32 1-dimensional timeseries\n",
      "  '{} 1-dimensional timeseries'.format(X.shape[0]))\n"
     ]
    },
    {
     "name": "stdout",
     "output_type": "stream",
     "text": [
      "63926.246894480195\n",
      "7 8 4 11 2 ----------------------------------------\n"
     ]
    },
    {
     "name": "stderr",
     "output_type": "stream",
     "text": [
      "c:\\users\\chinmay\\appdata\\local\\programs\\python\\python37\\lib\\site-packages\\tslearn\\utils.py:91: UserWarning: 2-Dimensional data passed. Assuming these are 32 1-dimensional timeseries\n",
      "  '{} 1-dimensional timeseries'.format(X.shape[0]))\n"
     ]
    },
    {
     "name": "stdout",
     "output_type": "stream",
     "text": [
      "60449.35411320601\n",
      "14 2 4 6 1 5 ----------------------------------------\n"
     ]
    },
    {
     "name": "stderr",
     "output_type": "stream",
     "text": [
      "c:\\users\\chinmay\\appdata\\local\\programs\\python\\python37\\lib\\site-packages\\tslearn\\utils.py:91: UserWarning: 2-Dimensional data passed. Assuming these are 32 1-dimensional timeseries\n",
      "  '{} 1-dimensional timeseries'.format(X.shape[0]))\n"
     ]
    },
    {
     "name": "stdout",
     "output_type": "stream",
     "text": [
      "56781.01193501706\n",
      "2 6 2 5 3 3 11 ----------------------------------------\n"
     ]
    },
    {
     "name": "stderr",
     "output_type": "stream",
     "text": [
      "c:\\users\\chinmay\\appdata\\local\\programs\\python\\python37\\lib\\site-packages\\tslearn\\utils.py:91: UserWarning: 2-Dimensional data passed. Assuming these are 32 1-dimensional timeseries\n",
      "  '{} 1-dimensional timeseries'.format(X.shape[0]))\n"
     ]
    },
    {
     "name": "stdout",
     "output_type": "stream",
     "text": [
      "51036.1441471751\n",
      "10 6 3 4 3 1 2 3 ----------------------------------------\n"
     ]
    },
    {
     "name": "stderr",
     "output_type": "stream",
     "text": [
      "c:\\users\\chinmay\\appdata\\local\\programs\\python\\python37\\lib\\site-packages\\tslearn\\utils.py:91: UserWarning: 2-Dimensional data passed. Assuming these are 32 1-dimensional timeseries\n",
      "  '{} 1-dimensional timeseries'.format(X.shape[0]))\n"
     ]
    },
    {
     "name": "stdout",
     "output_type": "stream",
     "text": [
      "50724.953072605975\n",
      "2 3 4 8 3 1 2 6 3 ----------------------------------------\n"
     ]
    }
   ],
   "source": [
    "# from scipy.spatial.distance import cdist \n",
    "# from tslearn.clustering import TimeSeriesKMeans\n",
    "# distortions = [] \n",
    "# inertias = [] \n",
    "# mapping1 = {}   # Used for distortion calculation, didnt use\n",
    "# mapping2 = {} \n",
    "# K = range(1,10) \n",
    "  \n",
    "# for k in K: \n",
    "#     #Building and fitting the model \n",
    "# #     kmeanModel = KMeans(n_clusters=k).fit(X) \n",
    "#     km = TimeSeriesKMeans(n_clusters=k, metric=\"dtw\",max_iter = 900,tol = 1e-08)\n",
    "#     km.fit(X_train)     \n",
    "      \n",
    "#     inertias.append(km.inertia_) \n",
    "#     predictions = km.predict(X_train)\n",
    "  \n",
    "#     print(km.inertia_)\n",
    "#     mapping2[k] = km.inertia_ \n",
    "#     for c in range(k):\n",
    "#         c_0 = np.argwhere(predictions==c)\n",
    "#         print(c_0.shape[0],end=' ')\n",
    "#     print('----------------------------------------')"
   ]
  },
  {
   "cell_type": "code",
   "execution_count": 5,
   "metadata": {},
   "outputs": [
    {
     "data": {
      "image/png": "[encoded data removed]",
      "text/plain": [
       "<Figure size 432x288 with 1 Axes>"
      ]
     },
     "metadata": {
      "needs_background": "light"
     },
     "output_type": "display_data"
    }
   ],
   "source": [
    "# import matplotlib.pyplot as plt \n",
    "# plt.plot(K, inertias, 'bx-') \n",
    "# plt.xlabel('Values of K') \n",
    "# plt.ylabel('Inertia') \n",
    "# plt.title('The Elbow Method using Inertia') \n",
    "# plt.show() "
   ]
  },
  {
   "cell_type": "code",
   "execution_count": 6,
   "metadata": {},
   "outputs": [
    {
     "data": {
      "text/plain": [
       "TimeSeriesKMeans(dtw_inertia=False, init='k-means++', max_iter=900,\n",
       "                 max_iter_barycenter=100, metric='dtw', metric_params=None,\n",
       "                 n_clusters=3, n_init=1, n_jobs=None, random_state=3, tol=1e-08,\n",
       "                 verbose=0)"
      ]
     },
     "execution_count": 6,
     "metadata": {},
     "output_type": "execute_result"
    }
   ],
   "source": [
    "# from scipy.spatial.distance import cdist \n",
    "from tslearn.clustering import TimeSeriesKMeans\n",
    "km = TimeSeriesKMeans(n_clusters=3, metric=\"dtw\",max_iter = 900,tol = 1e-08,random_state=3)\n",
    "km.fit(X_train)"
   ]
  },
  {
   "cell_type": "code",
   "execution_count": 7,
   "metadata": {},
   "outputs": [
    {
     "name": "stderr",
     "output_type": "stream",
     "text": [
      "c:\\users\\chinmay\\appdata\\local\\programs\\python\\python37\\lib\\site-packages\\tslearn\\utils.py:91: UserWarning: 2-Dimensional data passed. Assuming these are 32 1-dimensional timeseries\n",
      "  '{} 1-dimensional timeseries'.format(X.shape[0]))\n"
     ]
    },
    {
     "name": "stdout",
     "output_type": "stream",
     "text": [
      "14 10 8 [0. 1. 1. 0. 1. 2. 2. 0. 0. 1. 0. 0. 2. 1. 2. 1. 0. 0. 2. 2. 0. 0. 1. 0.\n",
      " 2. 1. 2. 1. 0. 1. 0. 0.]\n"
     ]
    }
   ],
   "source": [
    "predictions = km.predict(X_train)\n",
    "for c in range(3):\n",
    "    c_0 = np.argwhere(predictions==c)\n",
    "    print(c_0.shape[0],end=' ')\n",
    "c_assign = np.zeros(32)\n",
    "for k in range(3):\n",
    "    c_0 = np.argwhere(predictions==k)\n",
    "    c_assign[c_0] = k\n",
    "#     print(k,c_0)\n",
    "print(c_assign)"
   ]
  },
  {
   "cell_type": "code",
   "execution_count": 8,
   "metadata": {},
   "outputs": [
    {
     "name": "stdout",
     "output_type": "stream",
     "text": [
      "[ 0  3  7  8 10 11 16 17 20 21 23 28 30 31] 96.53186274509804\n",
      "[ 0  3  7  8 10 11 16 17 20 21 23 28 30 31] 106.46845588235301\n",
      "[ 0  3  7  8 10 11 16 17 20 21 23 28 30 31] 106.94852941176471\n",
      "[ 0  3  7  8 10 11 16 17 20 21 23 28 30 31] 90.32107843137256\n",
      "[ 0  3  7  8 10 11 16 17 20 21 23 28 30 31] 99.64950980392157\n",
      "[ 0  3  7  8 10 11 16 17 20 21 23 28 30 31] 95.02450980392157\n",
      "[ 0  3  7  8 10 11 16 17 20 21 23 28 30 31] 86.93455882352931\n",
      "[ 0  3  7  8 10 11 16 17 20 21 23 28 30 31] 93.4779411764706\n",
      "[ 0  3  7  8 10 11 16 17 20 21 23 28 30 31] 88.69497549019609\n",
      "[ 0  3  7  8 10 11 16 17 20 21 23 28 30 31] 87.18625000000003\n",
      "[ 0  3  7  8 10 11 16 17 20 21 23 28 30 31] 83.04411764705883\n",
      "[ 0  3  7  8 10 11 16 17 20 21 23 28 30 31] 88.63480392156863\n",
      "[ 0  3  7  8 10 11 16 17 20 21 23 28 30 31] 79.27522058823529\n",
      "[ 0  3  7  8 10 11 16 17 20 21 23 28 30 31] 87.61083333333333\n",
      "cluster  0 --> 92.12876050420168\n",
      "[ 1  2  4  9 13 15 22 25 27 29] 115.28676470588235\n",
      "[ 1  2  4  9 13 15 22 25 27 29] 109.92647058823529\n",
      "[ 1  2  4  9 13 15 22 25 27 29] 104.37009803921569\n",
      "[ 1  2  4  9 13 15 22 25 27 29] 95.82107843137256\n",
      "[ 1  2  4  9 13 15 22 25 27 29] 97.57107843137256\n",
      "[ 1  2  4  9 13 15 22 25 27 29] 101.86781862745097\n",
      "[ 1  2  4  9 13 15 22 25 27 29] 100.70343137254902\n",
      "[ 1  2  4  9 13 15 22 25 27 29] 104.16666666666667\n",
      "[ 1  2  4  9 13 15 22 25 27 29] 116.53676470588235\n",
      "[ 1  2  4  9 13 15 22 25 27 29] 110.79071078431373\n",
      "cluster  1 --> 105.70408823529412\n",
      "[ 5  6 12 14 18 19 24 26] 118.42892156862744\n",
      "[ 5  6 12 14 18 19 24 26] 122.33578431372548\n",
      "[ 5  6 12 14 18 19 24 26] 125.76470588235294\n",
      "[ 5  6 12 14 18 19 24 26] 128.2107843137255\n",
      "[ 5  6 12 14 18 19 24 26] 131.85049019607843\n",
      "[ 5  6 12 14 18 19 24 26] 122.9779411764706\n",
      "[ 5  6 12 14 18 19 24 26] 127.80882352941177\n",
      "[ 5  6 12 14 18 19 24 26] 118.92458333333336\n",
      "cluster  2 --> 124.53775428921568\n"
     ]
    },
    {
     "data": {
      "image/png": "[encoded data removed]",
      "text/plain": [
       "<Figure size 432x288 with 1 Axes>"
      ]
     },
     "metadata": {
      "needs_background": "light"
     },
     "output_type": "display_data"
    }
   ],
   "source": [
    "import matplotlib.pyplot as plt \n",
    "x = [ i for i in range(204)]\n",
    "\n",
    "colors = ['green','blue','red','yellow','purple','cyan']\n",
    "K = 3\n",
    "for k in range(K):\n",
    "    cluster_avg = 0\n",
    "    size =0\n",
    "    c_k_stations = np.argwhere(c_assign == k).flatten()\n",
    "    cluster_trend = np.zeros((204,))\n",
    "#     print(cluster_trend.shape)\n",
    "    for station in c_k_stations:\n",
    "        \n",
    "        temporal_trend_max  = X_train[station]\n",
    "        y = temporal_trend_max\n",
    "#         print(y.shape)\n",
    "        cluster_trend  = cluster_trend + y\n",
    "        cluster_avg += np.sum(y)\n",
    "        print(c_k_stations,np.sum(y)/204)\n",
    "        size +=1\n",
    "#         if(k in [0,1]):\n",
    "#         plt.plot(x,y,color = colors[k])\n",
    "    # Single trend per cluster\n",
    "    cluster_trend = cluster_trend / size\n",
    "#     if(k==0):\n",
    "    plt.plot(x,cluster_trend,color = colors[k],label = \"Cluster \"+str(k+1))\n",
    "    print(\"cluster \",k,\"-->\",cluster_avg/(size*204))\n",
    "    \n",
    "plt.legend(loc=\"upper left\")\n",
    "y_label = \" PM values :(unit - Âµg/mÂ³)\"\n",
    "x_label =  \" Sequence of days from Aug 2019 to Aug 2020 \"\n",
    "plt.xlabel(x_label)\n",
    "plt.ylabel(y_label)\n",
    "plt.show()\n",
    "\n",
    "    "
   ]
  },
  {
   "cell_type": "code",
   "execution_count": 9,
   "metadata": {},
   "outputs": [
    {
     "data": {
      "text/html": [
       "<div>\n",
       "<style scoped>\n",
       "    .dataframe tbody tr th:only-of-type {\n",
       "        vertical-align: middle;\n",
       "    }\n",
       "\n",
       "    .dataframe tbody tr th {\n",
       "        vertical-align: top;\n",
       "    }\n",
       "\n",
       "    .dataframe thead th {\n",
       "        text-align: right;\n",
       "    }\n",
       "</style>\n",
       "<table border=\"1\" class=\"dataframe\">\n",
       "  <thead>\n",
       "    <tr style=\"text-align: right;\">\n",
       "      <th></th>\n",
       "      <th>location</th>\n",
       "      <th>latitude</th>\n",
       "      <th>longitude</th>\n",
       "    </tr>\n",
       "  </thead>\n",
       "  <tbody>\n",
       "    <tr>\n",
       "      <th>0</th>\n",
       "      <td>Sonia Vihar, Delhi - DPCC</td>\n",
       "      <td>28.710508</td>\n",
       "      <td>77.249485</td>\n",
       "    </tr>\n",
       "    <tr>\n",
       "      <th>1</th>\n",
       "      <td>Vivek Vihar, Delhi - DPCC</td>\n",
       "      <td>28.672342</td>\n",
       "      <td>77.315260</td>\n",
       "    </tr>\n",
       "    <tr>\n",
       "      <th>2</th>\n",
       "      <td>Okhla Phase-2, Delhi - DPCC</td>\n",
       "      <td>28.530785</td>\n",
       "      <td>77.271255</td>\n",
       "    </tr>\n",
       "    <tr>\n",
       "      <th>3</th>\n",
       "      <td>NSIT Dwarka, Delhi - CPCB</td>\n",
       "      <td>28.609090</td>\n",
       "      <td>77.032541</td>\n",
       "    </tr>\n",
       "    <tr>\n",
       "      <th>4</th>\n",
       "      <td>Jawaharlal Nehru Stadium, Delhi - DPCC</td>\n",
       "      <td>28.580280</td>\n",
       "      <td>77.233829</td>\n",
       "    </tr>\n",
       "    <tr>\n",
       "      <th>5</th>\n",
       "      <td>Ashok Vihar, Delhi - DPCC</td>\n",
       "      <td>28.695381</td>\n",
       "      <td>77.181665</td>\n",
       "    </tr>\n",
       "    <tr>\n",
       "      <th>6</th>\n",
       "      <td>Anand Vihar, Delhi - DPCC</td>\n",
       "      <td>28.646835</td>\n",
       "      <td>77.316032</td>\n",
       "    </tr>\n",
       "    <tr>\n",
       "      <th>7</th>\n",
       "      <td>Mundka, Delhi - DPCC</td>\n",
       "      <td>28.684678</td>\n",
       "      <td>77.076574</td>\n",
       "    </tr>\n",
       "    <tr>\n",
       "      <th>8</th>\n",
       "      <td>Narela, Delhi - DPCC</td>\n",
       "      <td>28.822836</td>\n",
       "      <td>77.101981</td>\n",
       "    </tr>\n",
       "    <tr>\n",
       "      <th>9</th>\n",
       "      <td>Sri Aurobindo Marg, Delhi - DPCC</td>\n",
       "      <td>28.531346</td>\n",
       "      <td>77.190156</td>\n",
       "    </tr>\n",
       "    <tr>\n",
       "      <th>10</th>\n",
       "      <td>Patparganj, Delhi - DPCC</td>\n",
       "      <td>28.623748</td>\n",
       "      <td>77.287205</td>\n",
       "    </tr>\n",
       "    <tr>\n",
       "      <th>11</th>\n",
       "      <td>Alipur, Delhi - DPCC</td>\n",
       "      <td>28.815329</td>\n",
       "      <td>77.153010</td>\n",
       "    </tr>\n",
       "    <tr>\n",
       "      <th>12</th>\n",
       "      <td>Mandir Marg, Delhi - DPCC</td>\n",
       "      <td>28.636429</td>\n",
       "      <td>77.201067</td>\n",
       "    </tr>\n",
       "    <tr>\n",
       "      <th>13</th>\n",
       "      <td>Nehru Nagar, Delhi - DPCC</td>\n",
       "      <td>28.567890</td>\n",
       "      <td>77.250515</td>\n",
       "    </tr>\n",
       "    <tr>\n",
       "      <th>14</th>\n",
       "      <td>Dr. Karni Singh Shooting Range, Delhi - DPCC</td>\n",
       "      <td>28.498571</td>\n",
       "      <td>77.264840</td>\n",
       "    </tr>\n",
       "    <tr>\n",
       "      <th>15</th>\n",
       "      <td>Bawana, Delhi - DPCC</td>\n",
       "      <td>28.776200</td>\n",
       "      <td>77.051074</td>\n",
       "    </tr>\n",
       "    <tr>\n",
       "      <th>16</th>\n",
       "      <td>Pusa, Delhi - IMD</td>\n",
       "      <td>28.639645</td>\n",
       "      <td>77.146263</td>\n",
       "    </tr>\n",
       "    <tr>\n",
       "      <th>17</th>\n",
       "      <td>CRRI Mathura Road, Delhi - IMD</td>\n",
       "      <td>28.551201</td>\n",
       "      <td>77.273574</td>\n",
       "    </tr>\n",
       "    <tr>\n",
       "      <th>18</th>\n",
       "      <td>North Campus, DU, Delhi - IMD</td>\n",
       "      <td>28.657381</td>\n",
       "      <td>77.158545</td>\n",
       "    </tr>\n",
       "    <tr>\n",
       "      <th>19</th>\n",
       "      <td>IHBAS, Dilshad Garden, Delhi - CPCB</td>\n",
       "      <td>28.681174</td>\n",
       "      <td>77.302523</td>\n",
       "    </tr>\n",
       "    <tr>\n",
       "      <th>20</th>\n",
       "      <td>Major Dhyan Chand National Stadium, Delhi - DPCC</td>\n",
       "      <td>28.611281</td>\n",
       "      <td>77.237738</td>\n",
       "    </tr>\n",
       "    <tr>\n",
       "      <th>21</th>\n",
       "      <td>Rohini, Delhi - DPCC</td>\n",
       "      <td>28.732528</td>\n",
       "      <td>77.119920</td>\n",
       "    </tr>\n",
       "    <tr>\n",
       "      <th>22</th>\n",
       "      <td>Jahangirpuri, Delhi - DPCC</td>\n",
       "      <td>28.732820</td>\n",
       "      <td>77.170633</td>\n",
       "    </tr>\n",
       "    <tr>\n",
       "      <th>23</th>\n",
       "      <td>Shadipur, Delhi - CPCB</td>\n",
       "      <td>28.651478</td>\n",
       "      <td>77.147311</td>\n",
       "    </tr>\n",
       "    <tr>\n",
       "      <th>24</th>\n",
       "      <td>Lodhi Road, Delhi - IMD</td>\n",
       "      <td>28.591825</td>\n",
       "      <td>77.227307</td>\n",
       "    </tr>\n",
       "    <tr>\n",
       "      <th>25</th>\n",
       "      <td>US Diplomatic Post: New Delhi</td>\n",
       "      <td>28.635760</td>\n",
       "      <td>77.224450</td>\n",
       "    </tr>\n",
       "    <tr>\n",
       "      <th>26</th>\n",
       "      <td>R K Puram, Delhi - DPCC</td>\n",
       "      <td>28.674045</td>\n",
       "      <td>77.131023</td>\n",
       "    </tr>\n",
       "    <tr>\n",
       "      <th>27</th>\n",
       "      <td>Wazirpur, Delhi - DPCC</td>\n",
       "      <td>28.699793</td>\n",
       "      <td>77.165453</td>\n",
       "    </tr>\n",
       "    <tr>\n",
       "      <th>28</th>\n",
       "      <td>Punjabi Bagh, Delhi - DPCC</td>\n",
       "      <td>28.563262</td>\n",
       "      <td>77.186937</td>\n",
       "    </tr>\n",
       "    <tr>\n",
       "      <th>29</th>\n",
       "      <td>DTU, Delhi - CPCB</td>\n",
       "      <td>28.750050</td>\n",
       "      <td>77.111261</td>\n",
       "    </tr>\n",
       "    <tr>\n",
       "      <th>30</th>\n",
       "      <td>Sirifort, Delhi - CPCB</td>\n",
       "      <td>28.550425</td>\n",
       "      <td>77.215938</td>\n",
       "    </tr>\n",
       "    <tr>\n",
       "      <th>31</th>\n",
       "      <td>Dwarka-Sector 8, Delhi - DPCC</td>\n",
       "      <td>28.571027</td>\n",
       "      <td>77.071901</td>\n",
       "    </tr>\n",
       "    <tr>\n",
       "      <th>32</th>\n",
       "      <td>Najafgarh, Delhi - DPCC</td>\n",
       "      <td>28.570173</td>\n",
       "      <td>76.933762</td>\n",
       "    </tr>\n",
       "    <tr>\n",
       "      <th>33</th>\n",
       "      <td>ITO, Delhi - CPCB</td>\n",
       "      <td>28.631695</td>\n",
       "      <td>77.249439</td>\n",
       "    </tr>\n",
       "    <tr>\n",
       "      <th>34</th>\n",
       "      <td>Aya Nagar, Delhi - IMD</td>\n",
       "      <td>28.470691</td>\n",
       "      <td>77.109936</td>\n",
       "    </tr>\n",
       "    <tr>\n",
       "      <th>35</th>\n",
       "      <td>IGI Airport (T3), Delhi - IMD</td>\n",
       "      <td>28.562776</td>\n",
       "      <td>77.118005</td>\n",
       "    </tr>\n",
       "    <tr>\n",
       "      <th>36</th>\n",
       "      <td>Burari Crossing, Delhi - IMD</td>\n",
       "      <td>28.725650</td>\n",
       "      <td>77.201157</td>\n",
       "    </tr>\n",
       "  </tbody>\n",
       "</table>\n",
       "</div>"
      ],
      "text/plain": [
       "                                            location   latitude  longitude\n",
       "0                          Sonia Vihar, Delhi - DPCC  28.710508  77.249485\n",
       "1                          Vivek Vihar, Delhi - DPCC  28.672342  77.315260\n",
       "2                        Okhla Phase-2, Delhi - DPCC  28.530785  77.271255\n",
       "3                          NSIT Dwarka, Delhi - CPCB  28.609090  77.032541\n",
       "4             Jawaharlal Nehru Stadium, Delhi - DPCC  28.580280  77.233829\n",
       "5                          Ashok Vihar, Delhi - DPCC  28.695381  77.181665\n",
       "6                          Anand Vihar, Delhi - DPCC  28.646835  77.316032\n",
       "7                               Mundka, Delhi - DPCC  28.684678  77.076574\n",
       "8                               Narela, Delhi - DPCC  28.822836  77.101981\n",
       "9                   Sri Aurobindo Marg, Delhi - DPCC  28.531346  77.190156\n",
       "10                          Patparganj, Delhi - DPCC  28.623748  77.287205\n",
       "11                              Alipur, Delhi - DPCC  28.815329  77.153010\n",
       "12                         Mandir Marg, Delhi - DPCC  28.636429  77.201067\n",
       "13                         Nehru Nagar, Delhi - DPCC  28.567890  77.250515\n",
       "14      Dr. Karni Singh Shooting Range, Delhi - DPCC  28.498571  77.264840\n",
       "15                              Bawana, Delhi - DPCC  28.776200  77.051074\n",
       "16                                 Pusa, Delhi - IMD  28.639645  77.146263\n",
       "17                    CRRI Mathura Road, Delhi - IMD  28.551201  77.273574\n",
       "18                     North Campus, DU, Delhi - IMD  28.657381  77.158545\n",
       "19               IHBAS, Dilshad Garden, Delhi - CPCB  28.681174  77.302523\n",
       "20  Major Dhyan Chand National Stadium, Delhi - DPCC  28.611281  77.237738\n",
       "21                              Rohini, Delhi - DPCC  28.732528  77.119920\n",
       "22                        Jahangirpuri, Delhi - DPCC  28.732820  77.170633\n",
       "23                            Shadipur, Delhi - CPCB  28.651478  77.147311\n",
       "24                           Lodhi Road, Delhi - IMD  28.591825  77.227307\n",
       "25                     US Diplomatic Post: New Delhi  28.635760  77.224450\n",
       "26                           R K Puram, Delhi - DPCC  28.674045  77.131023\n",
       "27                            Wazirpur, Delhi - DPCC  28.699793  77.165453\n",
       "28                        Punjabi Bagh, Delhi - DPCC  28.563262  77.186937\n",
       "29                                 DTU, Delhi - CPCB  28.750050  77.111261\n",
       "30                            Sirifort, Delhi - CPCB  28.550425  77.215938\n",
       "31                    Dwarka-Sector 8, Delhi - DPCC   28.571027  77.071901\n",
       "32                           Najafgarh, Delhi - DPCC  28.570173  76.933762\n",
       "33                                 ITO, Delhi - CPCB  28.631695  77.249439\n",
       "34                            Aya Nagar, Delhi - IMD  28.470691  77.109936\n",
       "35                     IGI Airport (T3), Delhi - IMD  28.562776  77.118005\n",
       "36                      Burari Crossing, Delhi - IMD  28.725650  77.201157"
      ]
     },
     "execution_count": 9,
     "metadata": {},
     "output_type": "execute_result"
    }
   ],
   "source": [
    "#----------------------- Cluster Assignment file ------------------------------\n",
    "data_dir = '../../Data/'\n",
    "import pandas as pd\n",
    "df_lat_lon=pd.read_csv(data_dir+'location_name_lat_lon.csv', sep=',')\n",
    "df_lat_lon"
   ]
  },
  {
   "cell_type": "code",
   "execution_count": 10,
   "metadata": {},
   "outputs": [
    {
     "name": "stdout",
     "output_type": "stream",
     "text": [
      "(32, 205)\n",
      "['Sonia Vihar, Delhi - DPCC' 'Vivek Vihar, Delhi - DPCC'\n",
      " 'Okhla Phase-2, Delhi - DPCC' 'NSIT Dwarka, Delhi - CPCB'\n",
      " 'Jawaharlal Nehru Stadium, Delhi - DPCC' 'Ashok Vihar, Delhi - DPCC'\n",
      " 'Mundka, Delhi - DPCC' 'Narela, Delhi - DPCC'\n",
      " 'Sri Aurobindo Marg, Delhi - DPCC' 'Patparganj, Delhi - DPCC'\n",
      " 'Alipur, Delhi - DPCC' 'Mandir Marg, Delhi - DPCC'\n",
      " 'Nehru Nagar, Delhi - DPCC'\n",
      " 'Dr. Karni Singh Shooting Range, Delhi - DPCC' 'Bawana, Delhi - DPCC'\n",
      " 'CRRI Mathura Road, Delhi - IMD' 'IHBAS, Dilshad Garden, Delhi - CPCB'\n",
      " 'Major Dhyan Chand National Stadium, Delhi - DPCC' 'Rohini, Delhi - DPCC'\n",
      " 'Jahangirpuri, Delhi - DPCC' 'Shadipur, Delhi - CPCB'\n",
      " 'Lodhi Road, Delhi - IMD' 'US Diplomatic Post: New Delhi'\n",
      " 'R K Puram, Delhi - DPCC' 'Wazirpur, Delhi - DPCC'\n",
      " 'Punjabi Bagh, Delhi - DPCC' 'DTU, Delhi - CPCB'\n",
      " 'Dwarka-Sector 8, Delhi - DPCC ' 'Najafgarh, Delhi - DPCC'\n",
      " 'ITO, Delhi - CPCB' 'Aya Nagar, Delhi - IMD'\n",
      " 'IGI Airport (T3), Delhi - IMD']\n"
     ]
    }
   ],
   "source": [
    "df_input = pd.read_csv('dataset_median_without_outliers.csv',header=None)\n",
    "np_input = df_input.values\n",
    "print(np_input.shape)\n",
    "print(np_input[:,0])"
   ]
  },
  {
   "cell_type": "code",
   "execution_count": 11,
   "metadata": {},
   "outputs": [
    {
     "name": "stdout",
     "output_type": "stream",
     "text": [
      "Sonia Vihar, Delhi - DPCC 28.710508\n",
      "Vivek Vihar, Delhi - DPCC 28.672341999999997\n",
      "Okhla Phase-2, Delhi - DPCC 28.530784999999998\n",
      "NSIT Dwarka, Delhi - CPCB 28.609090000000002\n",
      "Jawaharlal Nehru Stadium, Delhi - DPCC 28.58028\n",
      "Ashok Vihar, Delhi - DPCC 28.695381\n",
      "Mundka, Delhi - DPCC 28.684678\n",
      "Narela, Delhi - DPCC 28.822836\n",
      "Sri Aurobindo Marg, Delhi - DPCC 28.531346000000003\n",
      "Patparganj, Delhi - DPCC 28.623748\n",
      "Alipur, Delhi - DPCC 28.815329\n",
      "Mandir Marg, Delhi - DPCC 28.636428999999996\n",
      "Nehru Nagar, Delhi - DPCC 28.567890000000002\n",
      "Dr. Karni Singh Shooting Range, Delhi - DPCC 28.498571000000002\n",
      "Bawana, Delhi - DPCC 28.7762\n",
      "CRRI Mathura Road, Delhi - IMD 28.5512005\n",
      "IHBAS, Dilshad Garden, Delhi - CPCB 28.681173600000005\n",
      "Major Dhyan Chand National Stadium, Delhi - DPCC 28.611280999999998\n",
      "Rohini, Delhi - DPCC 28.732528000000002\n",
      "Jahangirpuri, Delhi - DPCC 28.73282\n",
      "Shadipur, Delhi - CPCB 28.651478100000002\n",
      "Lodhi Road, Delhi - IMD 28.5918245\n",
      "US Diplomatic Post: New Delhi 28.635759999999998\n",
      "R K Puram, Delhi - DPCC 28.674045\n",
      "Wazirpur, Delhi - DPCC 28.699793\n",
      "Punjabi Bagh, Delhi - DPCC 28.563261999999998\n",
      "DTU, Delhi - CPCB 28.7500499\n",
      "Dwarka-Sector 8, Delhi - DPCC  28.5710274\n",
      "Najafgarh, Delhi - DPCC 28.570172999999997\n",
      "ITO, Delhi - CPCB 28.631694500000002\n",
      "Aya Nagar, Delhi - IMD 28.4706914\n",
      "IGI Airport (T3), Delhi - IMD 28.562776300000003\n",
      "32\n"
     ]
    }
   ],
   "source": [
    "clusters = []\n",
    "lat = []\n",
    "long = []\n",
    "location = []\n",
    "for i in range(np_input.shape[0]):\n",
    "    loc = np_input[i,0]\n",
    "    for j in range(df_lat_lon.shape[0]):\n",
    "        if(df_lat_lon['location'][j]==loc):\n",
    "            location.append(loc)\n",
    "            lat.append( df_lat_lon['latitude'][j])\n",
    "            long.append(df_lat_lon['longitude'][j])\n",
    "            print(loc,df_lat_lon['latitude'][j])\n",
    "    clusters.append(c_assign[i])\n",
    "    \n",
    "#     df['Cluster'][loc] = c_assign[i]\n",
    "print(len(clusters))\n",
    "# print(long)\n",
    "    "
   ]
  },
  {
   "cell_type": "code",
   "execution_count": 11,
   "metadata": {},
   "outputs": [
    {
     "name": "stdout",
     "output_type": "stream",
     "text": [
      "                                            location   latitude  longitude  \\\n",
      "0                          Sonia Vihar, Delhi - DPCC  28.710508  77.249485   \n",
      "1                          Vivek Vihar, Delhi - DPCC  28.672342  77.315260   \n",
      "2                        Okhla Phase-2, Delhi - DPCC  28.530785  77.271255   \n",
      "3                          NSIT Dwarka, Delhi - CPCB  28.609090  77.032541   \n",
      "4             Jawaharlal Nehru Stadium, Delhi - DPCC  28.580280  77.233829   \n",
      "5                          Ashok Vihar, Delhi - DPCC  28.695381  77.181665   \n",
      "6                               Mundka, Delhi - DPCC  28.684678  77.076574   \n",
      "7                               Narela, Delhi - DPCC  28.822836  77.101981   \n",
      "8                   Sri Aurobindo Marg, Delhi - DPCC  28.531346  77.190156   \n",
      "9                           Patparganj, Delhi - DPCC  28.623748  77.287205   \n",
      "10                              Alipur, Delhi - DPCC  28.815329  77.153010   \n",
      "11                         Mandir Marg, Delhi - DPCC  28.636429  77.201067   \n",
      "12                         Nehru Nagar, Delhi - DPCC  28.567890  77.250515   \n",
      "13      Dr. Karni Singh Shooting Range, Delhi - DPCC  28.498571  77.264840   \n",
      "14                              Bawana, Delhi - DPCC  28.776200  77.051074   \n",
      "15                    CRRI Mathura Road, Delhi - IMD  28.551201  77.273574   \n",
      "16               IHBAS, Dilshad Garden, Delhi - CPCB  28.681174  77.302523   \n",
      "17  Major Dhyan Chand National Stadium, Delhi - DPCC  28.611281  77.237738   \n",
      "18                              Rohini, Delhi - DPCC  28.732528  77.119920   \n",
      "19                        Jahangirpuri, Delhi - DPCC  28.732820  77.170633   \n",
      "20                            Shadipur, Delhi - CPCB  28.651478  77.147311   \n",
      "21                           Lodhi Road, Delhi - IMD  28.591825  77.227307   \n",
      "22                     US Diplomatic Post: New Delhi  28.635760  77.224450   \n",
      "23                           R K Puram, Delhi - DPCC  28.674045  77.131023   \n",
      "24                            Wazirpur, Delhi - DPCC  28.699793  77.165453   \n",
      "25                        Punjabi Bagh, Delhi - DPCC  28.563262  77.186937   \n",
      "26                                 DTU, Delhi - CPCB  28.750050  77.111261   \n",
      "27                    Dwarka-Sector 8, Delhi - DPCC   28.571027  77.071901   \n",
      "28                           Najafgarh, Delhi - DPCC  28.570173  76.933762   \n",
      "29                                 ITO, Delhi - CPCB  28.631695  77.249439   \n",
      "30                            Aya Nagar, Delhi - IMD  28.470691  77.109936   \n",
      "31                     IGI Airport (T3), Delhi - IMD  28.562776  77.118005   \n",
      "\n",
      "    cluster  \n",
      "0       0.0  \n",
      "1       1.0  \n",
      "2       1.0  \n",
      "3       0.0  \n",
      "4       1.0  \n",
      "5       2.0  \n",
      "6       2.0  \n",
      "7       0.0  \n",
      "8       0.0  \n",
      "9       1.0  \n",
      "10      0.0  \n",
      "11      0.0  \n",
      "12      2.0  \n",
      "13      1.0  \n",
      "14      2.0  \n",
      "15      1.0  \n",
      "16      0.0  \n",
      "17      0.0  \n",
      "18      2.0  \n",
      "19      2.0  \n",
      "20      0.0  \n",
      "21      0.0  \n",
      "22      1.0  \n",
      "23      0.0  \n",
      "24      2.0  \n",
      "25      1.0  \n",
      "26      2.0  \n",
      "27      1.0  \n",
      "28      0.0  \n",
      "29      1.0  \n",
      "30      0.0  \n",
      "31      0.0  \n"
     ]
    }
   ],
   "source": [
    "new_df = pd.DataFrame() \n",
    "new_df[\"location\"] = location\n",
    "new_df[\"latitude\"] = lat\n",
    "new_df[\"longitude\"] = long\n",
    "new_df[\"cluster\"] = clusters\n",
    "print(new_df)"
   ]
  },
  {
   "cell_type": "code",
   "execution_count": 12,
   "metadata": {},
   "outputs": [],
   "source": [
    "new_df.to_csv(\"locations_with_cluster_assignments_3Clusters.csv\")"
   ]
  },
  {
   "cell_type": "code",
   "execution_count": null,
   "metadata": {},
   "outputs": [],
   "source": []
  }
 ],
 "metadata": {
  "kernelspec": {
   "display_name": "Python 3",
   "language": "python",
   "name": "python3"
  },
  "language_info": {
   "codemirror_mode": {
    "name": "ipython",
    "version": 3
   },
   "file_extension": ".py",
   "mimetype": "text/x-python",
   "name": "python",
   "nbconvert_exporter": "python",
   "pygments_lexer": "ipython3",
   "version": "3.7.6"
  }
 },
 "nbformat": 4,
 "nbformat_minor": 4
}
