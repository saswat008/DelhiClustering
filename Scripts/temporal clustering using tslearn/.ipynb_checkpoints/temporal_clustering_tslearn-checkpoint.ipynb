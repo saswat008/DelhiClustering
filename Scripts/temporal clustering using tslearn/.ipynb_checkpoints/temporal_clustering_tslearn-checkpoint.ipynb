{
 "cells": [
  {
   "cell_type": "code",
   "execution_count": 1,
   "metadata": {},
   "outputs": [],
   "source": [
    "import tslearn\n",
    "import numpy as np"
   ]
  },
  {
   "cell_type": "code",
   "execution_count": 2,
   "metadata": {},
   "outputs": [],
   "source": [
    "import pandas as pd"
   ]
  },
  {
   "cell_type": "code",
   "execution_count": 3,
   "metadata": {},
   "outputs": [
    {
     "name": "stdout",
     "output_type": "stream",
     "text": [
      "(409,)\n"
     ]
    }
   ],
   "source": [
    "df_input = pd.read_csv('dataset.csv',header=None)\n",
    "np_input = df_input.values\n",
    "print(np_input[0][:].shape)"
   ]
  },
  {
   "cell_type": "code",
   "execution_count": 4,
   "metadata": {},
   "outputs": [
    {
     "name": "stdout",
     "output_type": "stream",
     "text": [
      "(32, 204, 2)\n"
     ]
    },
    {
     "name": "stderr",
     "output_type": "stream",
     "text": [
      "c:\\users\\chinmay\\appdata\\local\\programs\\python\\python37\\lib\\site-packages\\tslearn\\bases.py:15: UserWarning: h5py not installed, hdf5 features will not be supported.\n",
      "Install h5py to use hdf5 features: http://docs.h5py.org/\n",
      "  warn(h5py_msg)\n"
     ]
    }
   ],
   "source": [
    "from tslearn.utils import to_time_series_dataset\n",
    "number_of_stations= np_input.shape[0]\n",
    "number_of_timesteps =  (int)((np_input.shape[1]-1 )/2)\n",
    "number_of_features = 2 # min max\n",
    "X_train = np.zeros(( number_of_stations, number_of_timesteps,  number_of_features  ))\n",
    "for i in range(number_of_stations):     #np_input.shape[0]):\n",
    "    \n",
    "    time_steps = (int)((np_input.shape[1]-1 )/2)\n",
    "#     print(time_steps)\n",
    "    ts = np.zeros(( time_steps , 2 ))\n",
    "    for j in range(1,np_input.shape[1],2):\n",
    "        [mi,ma] = [ np_input[i][j],np_input[i][j+1] ]\n",
    "        ts[(int)((j-1)/2)] = [mi,ma]\n",
    "#     print(ts.shape)\n",
    "    X_train[i] = ts\n",
    "    \n",
    "print(X_train.shape)\n"
   ]
  },
  {
   "cell_type": "code",
   "execution_count": null,
   "metadata": {},
   "outputs": [
    {
     "name": "stderr",
     "output_type": "stream",
     "text": [
      "c:\\users\\chinmay\\appdata\\local\\programs\\python\\python37\\lib\\site-packages\\sklearn\\utils\\deprecation.py:144: FutureWarning: The sklearn.cluster.k_means_ module is  deprecated in version 0.22 and will be removed in version 0.24. The corresponding classes / functions should instead be imported from sklearn.cluster. Anything that cannot be imported from sklearn.cluster is now part of the private API.\n",
      "  warnings.warn(message, FutureWarning)\n"
     ]
    }
   ],
   "source": [
    "from tslearn.clustering import TimeSeriesKMeans\n",
    "km = TimeSeriesKMeans(n_clusters=5, metric=\"dtw\",max_iter = 900,tol = 1e-08)\n",
    "km.fit(X_train)"
   ]
  },
  {
   "cell_type": "code",
   "execution_count": 129,
   "metadata": {},
   "outputs": [],
   "source": [
    "predictions = km.predict(X_train)"
   ]
  },
  {
   "cell_type": "code",
   "execution_count": null,
   "metadata": {},
   "outputs": [],
   "source": []
  },
  {
   "cell_type": "code",
   "execution_count": 130,
   "metadata": {},
   "outputs": [
    {
     "name": "stdout",
     "output_type": "stream",
     "text": [
      "0 [[ 0]\n",
      " [ 1]\n",
      " [ 2]\n",
      " [ 3]\n",
      " [ 4]\n",
      " [ 5]\n",
      " [ 6]\n",
      " [ 7]\n",
      " [ 8]\n",
      " [ 9]\n",
      " [10]\n",
      " [11]\n",
      " [12]\n",
      " [13]\n",
      " [14]\n",
      " [15]\n",
      " [16]\n",
      " [17]\n",
      " [19]\n",
      " [20]\n",
      " [21]\n",
      " [23]\n",
      " [24]\n",
      " [25]\n",
      " [27]\n",
      " [28]\n",
      " [30]\n",
      " [31]]\n",
      "1 [[22]]\n",
      "2 [[18]]\n",
      "3 [[26]]\n",
      "4 [[29]]\n"
     ]
    }
   ],
   "source": [
    "\n",
    "#To find distribution of clusters\n",
    "for k in range(5):\n",
    "    c_0 = np.argwhere(predictions==k)\n",
    "    print(k,c_0)"
   ]
  },
  {
   "cell_type": "code",
   "execution_count": null,
   "metadata": {},
   "outputs": [],
   "source": []
  },
  {
   "cell_type": "code",
   "execution_count": 131,
   "metadata": {},
   "outputs": [
    {
     "name": "stdout",
     "output_type": "stream",
     "text": [
      "4032696.988128122\n",
      "2364539.3715323247\n",
      "2832107.905252138\n",
      "1470561.9296149127\n",
      "1318355.5180280688\n",
      "1024617.5838356051\n",
      "743585.7400254546\n",
      "571189.895088685\n",
      "492078.1044566415\n"
     ]
    }
   ],
   "source": [
    "from scipy.spatial.distance import cdist \n",
    "distortions = [] \n",
    "inertias = [] \n",
    "mapping1 = {}   # Used for distortion calculation, didnt use\n",
    "mapping2 = {} \n",
    "K = range(1,10) \n",
    "  \n",
    "for k in K: \n",
    "    #Building and fitting the model \n",
    "#     kmeanModel = KMeans(n_clusters=k).fit(X) \n",
    "    km = TimeSeriesKMeans(n_clusters=k, metric=\"dtw\",max_iter = 900,tol = 1e-08)\n",
    "    km.fit(X_train)     \n",
    "      \n",
    "    inertias.append(km.inertia_) \n",
    "    \n",
    "  \n",
    "    print(km.inertia_)\n",
    "    mapping2[k] = km.inertia_ "
   ]
  },
  {
   "cell_type": "code",
   "execution_count": 132,
   "metadata": {},
   "outputs": [
    {
     "name": "stdout",
     "output_type": "stream",
     "text": [
      "1 : 4032696.988128122\n",
      "2 : 2364539.3715323247\n",
      "3 : 2832107.905252138\n",
      "4 : 1470561.9296149127\n",
      "5 : 1318355.5180280688\n",
      "6 : 1024617.5838356051\n",
      "7 : 743585.7400254546\n",
      "8 : 571189.895088685\n",
      "9 : 492078.1044566415\n"
     ]
    }
   ],
   "source": [
    "\n",
    "for key,val in mapping2.items(): \n",
    "    print(str(key)+' : '+str(val)) "
   ]
  },
  {
   "cell_type": "code",
   "execution_count": 133,
   "metadata": {},
   "outputs": [
    {
     "data": {
      "image/png": "[encoded data removed]",
      "text/plain": [
       "<Figure size 432x288 with 1 Axes>"
      ]
     },
     "metadata": {
      "needs_background": "light"
     },
     "output_type": "display_data"
    }
   ],
   "source": [
    "import matplotlib.pyplot as plt \n",
    "plt.plot(K, inertias, 'bx-') \n",
    "plt.xlabel('Values of K') \n",
    "plt.ylabel('Inertia') \n",
    "plt.title('The Elbow Method using Inertia') \n",
    "plt.show() "
   ]
  },
  {
   "cell_type": "code",
   "execution_count": 134,
   "metadata": {},
   "outputs": [],
   "source": [
    "#-------------------------------------------------------------------------"
   ]
  },
  {
   "cell_type": "code",
   "execution_count": 2,
   "metadata": {},
   "outputs": [],
   "source": []
  },
  {
   "cell_type": "code",
   "execution_count": null,
   "metadata": {},
   "outputs": [],
   "source": []
  },
  {
   "cell_type": "code",
   "execution_count": 7,
   "metadata": {},
   "outputs": [
    {
     "name": "stdout",
     "output_type": "stream",
     "text": [
      "{'Sonia Vihar, Delhi - DPCC': (28.710508, 77.24948499999999), 'Vivek Vihar, Delhi - DPCC': (28.672341999999997, 77.31526), 'Okhla Phase-2, Delhi - DPCC': (28.530784999999998, 77.27125500000001), 'NSIT Dwarka, Delhi - CPCB': (28.609090000000002, 77.03254129999999), 'Jawaharlal Nehru Stadium, Delhi - DPCC': (28.58028, 77.233829), 'Ashok Vihar, Delhi - DPCC': (28.695381, 77.181665), 'Anand Vihar, Delhi - DPCC': (28.646835, 77.31603199999999), 'Mundka, Delhi - DPCC': (28.684678, 77.076574), 'Narela, Delhi - DPCC': (28.822836, 77.10198100000001), 'Sri Aurobindo Marg, Delhi - DPCC': (28.531346000000003, 77.190156), 'Patparganj, Delhi - DPCC': (28.623748, 77.287205), 'Alipur, Delhi - DPCC': (28.815329, 77.15301), 'Mandir Marg, Delhi - DPCC': (28.636428999999996, 77.20106700000001), 'Nehru Nagar, Delhi - DPCC': (28.567890000000002, 77.25051500000001), 'Dr. Karni Singh Shooting Range, Delhi - DPCC': (28.498571000000002, 77.26484), 'Bawana, Delhi - DPCC': (28.7762, 77.051074), 'Pusa, Delhi - IMD': (28.639645, 77.146263), 'CRRI Mathura Road, Delhi - IMD': (28.5512005, 77.27357370000001), 'North Campus, DU, Delhi - IMD': (28.657381400000002, 77.15854470000001), 'IHBAS, Dilshad Garden, Delhi - CPCB': (28.681173600000005, 77.30252340000001), 'Major Dhyan Chand National Stadium, Delhi - DPCC': (28.611280999999998, 77.23773800000001), 'Rohini, Delhi - DPCC': (28.732528000000002, 77.11992), 'Jahangirpuri, Delhi - DPCC': (28.73282, 77.170633), 'Shadipur, Delhi - CPCB': (28.651478100000002, 77.1473105), 'Lodhi Road, Delhi - IMD': (28.5918245, 77.2273074), 'US Diplomatic Post: New Delhi': (28.635759999999998, 77.22445), 'R K Puram, Delhi - DPCC': (28.674045, 77.131023), 'Wazirpur, Delhi - DPCC': (28.699793, 77.165453), 'Punjabi Bagh, Delhi - DPCC': (28.563261999999998, 77.186937), 'DTU, Delhi - CPCB': (28.7500499, 77.1112615), 'Sirifort, Delhi - CPCB': (28.5504249, 77.2159377), 'Dwarka-Sector 8, Delhi - DPCC ': (28.5710274, 77.07190059999999), 'Najafgarh, Delhi - DPCC': (28.570172999999997, 76.933762), 'ITO, Delhi - CPCB': (28.631694500000002, 77.2494387), 'Aya Nagar, Delhi - IMD': (28.4706914, 77.10993640000001), 'IGI Airport (T3), Delhi - IMD': (28.562776300000003, 77.1180053), 'Burari Crossing, Delhi - IMD': (28.725650399999996, 77.20115729999999)}\n"
     ]
    }
   ],
   "source": []
  },
  {
   "cell_type": "code",
   "execution_count": 10,
   "metadata": {},
   "outputs": [],
   "source": []
  },
  {
   "cell_type": "code",
   "execution_count": null,
   "metadata": {},
   "outputs": [],
   "source": []
  },
  {
   "cell_type": "code",
   "execution_count": null,
   "metadata": {},
   "outputs": [],
   "source": []
  }
 ],
 "metadata": {
  "kernelspec": {
   "display_name": "Python 3",
   "language": "python",
   "name": "python3"
  },
  "language_info": {
   "codemirror_mode": {
    "name": "ipython",
    "version": 3
   },
   "file_extension": ".py",
   "mimetype": "text/x-python",
   "name": "python",
   "nbconvert_exporter": "python",
   "pygments_lexer": "ipython3",
   "version": "3.7.6"
  }
 },
 "nbformat": 4,
 "nbformat_minor": 4
}
